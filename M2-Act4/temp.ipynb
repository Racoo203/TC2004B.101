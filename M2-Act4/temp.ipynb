{
 "cells": [
  {
   "cell_type": "code",
   "execution_count": 1,
   "metadata": {},
   "outputs": [],
   "source": [
    "import pandas as pd\n",
    "import numpy as np"
   ]
  },
  {
   "cell_type": "code",
   "execution_count": 2,
   "metadata": {},
   "outputs": [],
   "source": [
    "data = pd.DataFrame()"
   ]
  },
  {
   "cell_type": "code",
   "execution_count": 3,
   "metadata": {},
   "outputs": [],
   "source": [
    "data['Age'] = ['young', 'young', 'young', 'young', 'young',\n",
    "               'middle', 'middle', 'middle', 'middle', 'middle',\n",
    "               'old', 'old', 'old', 'old', 'old']\n",
    "\n",
    "data['Has Job'] = ['false', 'false', 'true', 'true', 'false',\n",
    "               'false', 'false', 'true', 'false', 'false',\n",
    "               'false', 'false', 'true', 'true', 'false']\n",
    "\n",
    "data['Own House'] = ['false', 'false', 'false', 'true', 'false',\n",
    "               'false', 'false', 'true', 'true', 'true',\n",
    "               'true', 'true', 'false', 'false', 'false']\n",
    "\n",
    "data['Credit Rating'] = ['fair', 'excellent', 'good', 'good', 'fair',\n",
    "                         'fair', 'good', 'good', 'excellent', 'excellent',\n",
    "                         'excellent', 'good', 'good', 'excellent', 'fair'\n",
    "                         ]\n",
    "\n",
    "data['Class'] = ['No', 'No', 'Yes', 'Yes', 'No',\n",
    "                 'No', 'No', 'Yes', 'Yes', 'Yes',\n",
    "                 'Yes', 'Yes', 'Yes', 'Yes', 'No'\n",
    "                 ]"
   ]
  },
  {
   "cell_type": "code",
   "execution_count": 4,
   "metadata": {},
   "outputs": [
    {
     "data": {
      "text/html": [
       "<div>\n",
       "<style scoped>\n",
       "    .dataframe tbody tr th:only-of-type {\n",
       "        vertical-align: middle;\n",
       "    }\n",
       "\n",
       "    .dataframe tbody tr th {\n",
       "        vertical-align: top;\n",
       "    }\n",
       "\n",
       "    .dataframe thead th {\n",
       "        text-align: right;\n",
       "    }\n",
       "</style>\n",
       "<table border=\"1\" class=\"dataframe\">\n",
       "  <thead>\n",
       "    <tr style=\"text-align: right;\">\n",
       "      <th></th>\n",
       "      <th>Age</th>\n",
       "      <th>Has Job</th>\n",
       "      <th>Own House</th>\n",
       "      <th>Credit Rating</th>\n",
       "      <th>Class</th>\n",
       "    </tr>\n",
       "  </thead>\n",
       "  <tbody>\n",
       "    <tr>\n",
       "      <th>0</th>\n",
       "      <td>young</td>\n",
       "      <td>false</td>\n",
       "      <td>false</td>\n",
       "      <td>fair</td>\n",
       "      <td>No</td>\n",
       "    </tr>\n",
       "    <tr>\n",
       "      <th>1</th>\n",
       "      <td>young</td>\n",
       "      <td>false</td>\n",
       "      <td>false</td>\n",
       "      <td>excellent</td>\n",
       "      <td>No</td>\n",
       "    </tr>\n",
       "    <tr>\n",
       "      <th>2</th>\n",
       "      <td>young</td>\n",
       "      <td>true</td>\n",
       "      <td>false</td>\n",
       "      <td>good</td>\n",
       "      <td>Yes</td>\n",
       "    </tr>\n",
       "    <tr>\n",
       "      <th>3</th>\n",
       "      <td>young</td>\n",
       "      <td>true</td>\n",
       "      <td>true</td>\n",
       "      <td>good</td>\n",
       "      <td>Yes</td>\n",
       "    </tr>\n",
       "    <tr>\n",
       "      <th>4</th>\n",
       "      <td>young</td>\n",
       "      <td>false</td>\n",
       "      <td>false</td>\n",
       "      <td>fair</td>\n",
       "      <td>No</td>\n",
       "    </tr>\n",
       "    <tr>\n",
       "      <th>5</th>\n",
       "      <td>middle</td>\n",
       "      <td>false</td>\n",
       "      <td>false</td>\n",
       "      <td>fair</td>\n",
       "      <td>No</td>\n",
       "    </tr>\n",
       "    <tr>\n",
       "      <th>6</th>\n",
       "      <td>middle</td>\n",
       "      <td>false</td>\n",
       "      <td>false</td>\n",
       "      <td>good</td>\n",
       "      <td>No</td>\n",
       "    </tr>\n",
       "    <tr>\n",
       "      <th>7</th>\n",
       "      <td>middle</td>\n",
       "      <td>true</td>\n",
       "      <td>true</td>\n",
       "      <td>good</td>\n",
       "      <td>Yes</td>\n",
       "    </tr>\n",
       "    <tr>\n",
       "      <th>8</th>\n",
       "      <td>middle</td>\n",
       "      <td>false</td>\n",
       "      <td>true</td>\n",
       "      <td>excellent</td>\n",
       "      <td>Yes</td>\n",
       "    </tr>\n",
       "    <tr>\n",
       "      <th>9</th>\n",
       "      <td>middle</td>\n",
       "      <td>false</td>\n",
       "      <td>true</td>\n",
       "      <td>excellent</td>\n",
       "      <td>Yes</td>\n",
       "    </tr>\n",
       "    <tr>\n",
       "      <th>10</th>\n",
       "      <td>old</td>\n",
       "      <td>false</td>\n",
       "      <td>true</td>\n",
       "      <td>excellent</td>\n",
       "      <td>Yes</td>\n",
       "    </tr>\n",
       "    <tr>\n",
       "      <th>11</th>\n",
       "      <td>old</td>\n",
       "      <td>false</td>\n",
       "      <td>true</td>\n",
       "      <td>good</td>\n",
       "      <td>Yes</td>\n",
       "    </tr>\n",
       "    <tr>\n",
       "      <th>12</th>\n",
       "      <td>old</td>\n",
       "      <td>true</td>\n",
       "      <td>false</td>\n",
       "      <td>good</td>\n",
       "      <td>Yes</td>\n",
       "    </tr>\n",
       "    <tr>\n",
       "      <th>13</th>\n",
       "      <td>old</td>\n",
       "      <td>true</td>\n",
       "      <td>false</td>\n",
       "      <td>excellent</td>\n",
       "      <td>Yes</td>\n",
       "    </tr>\n",
       "    <tr>\n",
       "      <th>14</th>\n",
       "      <td>old</td>\n",
       "      <td>false</td>\n",
       "      <td>false</td>\n",
       "      <td>fair</td>\n",
       "      <td>No</td>\n",
       "    </tr>\n",
       "  </tbody>\n",
       "</table>\n",
       "</div>"
      ],
      "text/plain": [
       "       Age Has Job Own House Credit Rating Class\n",
       "0    young   false     false          fair    No\n",
       "1    young   false     false     excellent    No\n",
       "2    young    true     false          good   Yes\n",
       "3    young    true      true          good   Yes\n",
       "4    young   false     false          fair    No\n",
       "5   middle   false     false          fair    No\n",
       "6   middle   false     false          good    No\n",
       "7   middle    true      true          good   Yes\n",
       "8   middle   false      true     excellent   Yes\n",
       "9   middle   false      true     excellent   Yes\n",
       "10     old   false      true     excellent   Yes\n",
       "11     old   false      true          good   Yes\n",
       "12     old    true     false          good   Yes\n",
       "13     old    true     false     excellent   Yes\n",
       "14     old   false     false          fair    No"
      ]
     },
     "execution_count": 4,
     "metadata": {},
     "output_type": "execute_result"
    }
   ],
   "source": [
    "data"
   ]
  },
  {
   "cell_type": "code",
   "execution_count": 5,
   "metadata": {},
   "outputs": [],
   "source": [
    "# Registros 2 y 11 removidos\n",
    "dropped = data.drop([1,10], axis=0)\n",
    "# dropped = data\n",
    "\n",
    "info_gains = []"
   ]
  },
  {
   "cell_type": "code",
   "execution_count": 6,
   "metadata": {},
   "outputs": [],
   "source": [
    "def entropy(numlist):\n",
    "    total = sum(numlist)\n",
    "    entropy = 0\n",
    "    for number in numlist:\n",
    "        if number == 0:\n",
    "            entropy += 0\n",
    "        else:\n",
    "            entropy += (-number/total * np.log2(number/total))\n",
    "    \n",
    "    return entropy"
   ]
  },
  {
   "cell_type": "code",
   "execution_count": 7,
   "metadata": {},
   "outputs": [
    {
     "data": {
      "text/plain": [
       "Class\n",
       "No     5\n",
       "Yes    8\n",
       "dtype: int64"
      ]
     },
     "metadata": {},
     "output_type": "display_data"
    },
    {
     "name": "stdout",
     "output_type": "stream",
     "text": [
      "Entropy:  0.961\n"
     ]
    }
   ],
   "source": [
    "group = dropped.groupby('Class')\n",
    "temp = group.size()\n",
    "display(temp)\n",
    "root_entropy = round(entropy(temp), 3)\n",
    "print(\"Entropy: \" , root_entropy)"
   ]
  },
  {
   "cell_type": "code",
   "execution_count": 8,
   "metadata": {},
   "outputs": [
    {
     "data": {
      "text/plain": [
       "Age     Class\n",
       "middle  No       2\n",
       "        Yes      3\n",
       "old     No       1\n",
       "        Yes      3\n",
       "young   No       2\n",
       "        Yes      2\n",
       "dtype: int64"
      ]
     },
     "metadata": {},
     "output_type": "display_data"
    },
    {
     "name": "stdout",
     "output_type": "stream",
     "text": [
      "Information Gain: 0.03\n"
     ]
    }
   ],
   "source": [
    "group = dropped.groupby(['Age', 'Class'])\n",
    "temp = group.size()\n",
    "display(temp)\n",
    "weighted_entropy = 5/13 * entropy([2,3]) + 4/13 * entropy([1,3]) + 4/13 * entropy([2,2])\n",
    "info_gain = round(root_entropy - weighted_entropy, 3)\n",
    "print(\"Information Gain:\", info_gain)\n",
    "info_gains.append(info_gain)"
   ]
  },
  {
   "cell_type": "code",
   "execution_count": 9,
   "metadata": {},
   "outputs": [
    {
     "data": {
      "text/plain": [
       "Has Job  Class\n",
       "false    No       5\n",
       "         Yes      3\n",
       "true     Yes      5\n",
       "dtype: int64"
      ]
     },
     "metadata": {},
     "output_type": "display_data"
    },
    {
     "name": "stdout",
     "output_type": "stream",
     "text": [
      "Information Gain: 0.374\n"
     ]
    }
   ],
   "source": [
    "group = dropped.groupby(['Has Job', 'Class'])\n",
    "temp = group.size()\n",
    "display(temp)\n",
    "weighted_entropy = 8/13 * entropy([5,3]) + 5/13 * entropy([5,0])\n",
    "info_gain = round(root_entropy - weighted_entropy, 3)\n",
    "print(\"Information Gain:\", info_gain)\n",
    "info_gains.append(info_gain)"
   ]
  },
  {
   "cell_type": "code",
   "execution_count": 10,
   "metadata": {},
   "outputs": [
    {
     "data": {
      "text/plain": [
       "Own House  Class\n",
       "false      No       5\n",
       "           Yes      3\n",
       "true       Yes      5\n",
       "dtype: int64"
      ]
     },
     "metadata": {},
     "output_type": "display_data"
    },
    {
     "name": "stdout",
     "output_type": "stream",
     "text": [
      "Information Gain: 0.374\n"
     ]
    }
   ],
   "source": [
    "group = dropped.groupby(['Own House', 'Class'])\n",
    "temp = group.size()\n",
    "display(temp)\n",
    "weighted_entropy = 8/13 * entropy([5,3]) + 5/13 * entropy([5,0])\n",
    "info_gain = round(root_entropy - weighted_entropy, 3)\n",
    "print(\"Information Gain:\", info_gain)\n",
    "info_gains.append(info_gain)"
   ]
  },
  {
   "cell_type": "code",
   "execution_count": 11,
   "metadata": {},
   "outputs": [
    {
     "data": {
      "text/plain": [
       "Credit Rating  Class\n",
       "excellent      Yes      3\n",
       "fair           No       4\n",
       "good           No       1\n",
       "               Yes      5\n",
       "dtype: int64"
      ]
     },
     "metadata": {},
     "output_type": "display_data"
    },
    {
     "name": "stdout",
     "output_type": "stream",
     "text": [
      "Information Gain: 0.661\n"
     ]
    }
   ],
   "source": [
    "group = dropped.groupby(['Credit Rating', 'Class'])\n",
    "temp = group.size()\n",
    "display(temp)\n",
    "weighted_entropy = 3/13 * entropy([3,0]) + 4/13 * entropy([4,0]) + 6/13 * entropy([1,5])\n",
    "info_gain = round(root_entropy - weighted_entropy, 3)\n",
    "print(\"Information Gain:\", info_gain)\n",
    "info_gains.append(info_gain)"
   ]
  },
  {
   "cell_type": "code",
   "execution_count": 12,
   "metadata": {},
   "outputs": [
    {
     "data": {
      "text/plain": [
       "'Credit Rating'"
      ]
     },
     "execution_count": 12,
     "metadata": {},
     "output_type": "execute_result"
    }
   ],
   "source": [
    "data.columns[np.argmax(info_gains)]"
   ]
  }
 ],
 "metadata": {
  "kernelspec": {
   "display_name": "ML",
   "language": "python",
   "name": "python3"
  },
  "language_info": {
   "codemirror_mode": {
    "name": "ipython",
    "version": 3
   },
   "file_extension": ".py",
   "mimetype": "text/x-python",
   "name": "python",
   "nbconvert_exporter": "python",
   "pygments_lexer": "ipython3",
   "version": "3.10.13"
  }
 },
 "nbformat": 4,
 "nbformat_minor": 2
}
