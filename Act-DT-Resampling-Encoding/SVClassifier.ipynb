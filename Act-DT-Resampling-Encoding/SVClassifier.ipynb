{
 "cells": [
  {
   "cell_type": "markdown",
   "id": "52f65d57-89a9-4375-a8f2-c8fa26156ad5",
   "metadata": {},
   "source": [
    "# Classification: Support Vector Machines, Encoding, and Data Balancing\n",
    "In this notebook, we will continue our work with classifiers by introducing a new model, three new metrics, a way to encode and decode categorical data, and more ways in which you can handle imbalanced data.\n",
    "\n",
    "Let's begin with our everyday tasks: Loading the data, cleaning, and generating our train/test split.\n",
    "\n",
    "For this example, we will use a wine dataset that contains two columns that can be made into categorical data:\n",
    "- Type, which splits wine into red and white\n",
    "- Quality, which splits wine into ten different score categories"
   ]
  },
  {
   "cell_type": "code",
   "execution_count": 1,
   "id": "bc5a20fe-102c-4564-b150-7cf4c65ea0bb",
   "metadata": {},
   "outputs": [],
   "source": [
    "import pandas as pd\n",
    "import numpy as np\n",
    "import matplotlib.pyplot as plt\n"
   ]
  },
  {
   "cell_type": "markdown",
   "id": "a52e9dfd-1985-461f-a7e4-409d44b939a8",
   "metadata": {},
   "source": [
    "In this dataset, there are a few missing values. We will not try to fix them in this notebook, but remember we can use something like data imputation if we do not want to just delete them."
   ]
  },
  {
   "cell_type": "code",
   "execution_count": 2,
   "id": "04561bbd-c0bf-4abe-adce-d62c393dbf7a",
   "metadata": {},
   "outputs": [
    {
     "data": {
      "text/html": [
       "<div>\n",
       "<style scoped>\n",
       "    .dataframe tbody tr th:only-of-type {\n",
       "        vertical-align: middle;\n",
       "    }\n",
       "\n",
       "    .dataframe tbody tr th {\n",
       "        vertical-align: top;\n",
       "    }\n",
       "\n",
       "    .dataframe thead th {\n",
       "        text-align: right;\n",
       "    }\n",
       "</style>\n",
       "<table border=\"1\" class=\"dataframe\">\n",
       "  <thead>\n",
       "    <tr style=\"text-align: right;\">\n",
       "      <th></th>\n",
       "      <th>type</th>\n",
       "      <th>fixed acidity</th>\n",
       "      <th>volatile acidity</th>\n",
       "      <th>citric acid</th>\n",
       "      <th>residual sugar</th>\n",
       "      <th>chlorides</th>\n",
       "      <th>free sulfur dioxide</th>\n",
       "      <th>total sulfur dioxide</th>\n",
       "      <th>density</th>\n",
       "      <th>pH</th>\n",
       "      <th>sulphates</th>\n",
       "      <th>alcohol</th>\n",
       "      <th>quality</th>\n",
       "    </tr>\n",
       "  </thead>\n",
       "  <tbody>\n",
       "    <tr>\n",
       "      <th>0</th>\n",
       "      <td>white</td>\n",
       "      <td>7.0</td>\n",
       "      <td>0.270</td>\n",
       "      <td>0.36</td>\n",
       "      <td>20.7</td>\n",
       "      <td>0.045</td>\n",
       "      <td>45.0</td>\n",
       "      <td>170.0</td>\n",
       "      <td>1.00100</td>\n",
       "      <td>3.00</td>\n",
       "      <td>0.45</td>\n",
       "      <td>8.8</td>\n",
       "      <td>6</td>\n",
       "    </tr>\n",
       "    <tr>\n",
       "      <th>1</th>\n",
       "      <td>white</td>\n",
       "      <td>6.3</td>\n",
       "      <td>0.300</td>\n",
       "      <td>0.34</td>\n",
       "      <td>1.6</td>\n",
       "      <td>0.049</td>\n",
       "      <td>14.0</td>\n",
       "      <td>132.0</td>\n",
       "      <td>0.99400</td>\n",
       "      <td>3.30</td>\n",
       "      <td>0.49</td>\n",
       "      <td>9.5</td>\n",
       "      <td>6</td>\n",
       "    </tr>\n",
       "    <tr>\n",
       "      <th>2</th>\n",
       "      <td>white</td>\n",
       "      <td>8.1</td>\n",
       "      <td>0.280</td>\n",
       "      <td>0.40</td>\n",
       "      <td>6.9</td>\n",
       "      <td>0.050</td>\n",
       "      <td>30.0</td>\n",
       "      <td>97.0</td>\n",
       "      <td>0.99510</td>\n",
       "      <td>3.26</td>\n",
       "      <td>0.44</td>\n",
       "      <td>10.1</td>\n",
       "      <td>6</td>\n",
       "    </tr>\n",
       "    <tr>\n",
       "      <th>3</th>\n",
       "      <td>white</td>\n",
       "      <td>7.2</td>\n",
       "      <td>0.230</td>\n",
       "      <td>0.32</td>\n",
       "      <td>8.5</td>\n",
       "      <td>0.058</td>\n",
       "      <td>47.0</td>\n",
       "      <td>186.0</td>\n",
       "      <td>0.99560</td>\n",
       "      <td>3.19</td>\n",
       "      <td>0.40</td>\n",
       "      <td>9.9</td>\n",
       "      <td>6</td>\n",
       "    </tr>\n",
       "    <tr>\n",
       "      <th>4</th>\n",
       "      <td>white</td>\n",
       "      <td>7.2</td>\n",
       "      <td>0.230</td>\n",
       "      <td>0.32</td>\n",
       "      <td>8.5</td>\n",
       "      <td>0.058</td>\n",
       "      <td>47.0</td>\n",
       "      <td>186.0</td>\n",
       "      <td>0.99560</td>\n",
       "      <td>3.19</td>\n",
       "      <td>0.40</td>\n",
       "      <td>9.9</td>\n",
       "      <td>6</td>\n",
       "    </tr>\n",
       "    <tr>\n",
       "      <th>...</th>\n",
       "      <td>...</td>\n",
       "      <td>...</td>\n",
       "      <td>...</td>\n",
       "      <td>...</td>\n",
       "      <td>...</td>\n",
       "      <td>...</td>\n",
       "      <td>...</td>\n",
       "      <td>...</td>\n",
       "      <td>...</td>\n",
       "      <td>...</td>\n",
       "      <td>...</td>\n",
       "      <td>...</td>\n",
       "      <td>...</td>\n",
       "    </tr>\n",
       "    <tr>\n",
       "      <th>6491</th>\n",
       "      <td>red</td>\n",
       "      <td>6.8</td>\n",
       "      <td>0.620</td>\n",
       "      <td>0.08</td>\n",
       "      <td>1.9</td>\n",
       "      <td>0.068</td>\n",
       "      <td>28.0</td>\n",
       "      <td>38.0</td>\n",
       "      <td>0.99651</td>\n",
       "      <td>3.42</td>\n",
       "      <td>0.82</td>\n",
       "      <td>9.5</td>\n",
       "      <td>6</td>\n",
       "    </tr>\n",
       "    <tr>\n",
       "      <th>6492</th>\n",
       "      <td>red</td>\n",
       "      <td>6.2</td>\n",
       "      <td>0.600</td>\n",
       "      <td>0.08</td>\n",
       "      <td>2.0</td>\n",
       "      <td>0.090</td>\n",
       "      <td>32.0</td>\n",
       "      <td>44.0</td>\n",
       "      <td>0.99490</td>\n",
       "      <td>3.45</td>\n",
       "      <td>0.58</td>\n",
       "      <td>10.5</td>\n",
       "      <td>5</td>\n",
       "    </tr>\n",
       "    <tr>\n",
       "      <th>6494</th>\n",
       "      <td>red</td>\n",
       "      <td>6.3</td>\n",
       "      <td>0.510</td>\n",
       "      <td>0.13</td>\n",
       "      <td>2.3</td>\n",
       "      <td>0.076</td>\n",
       "      <td>29.0</td>\n",
       "      <td>40.0</td>\n",
       "      <td>0.99574</td>\n",
       "      <td>3.42</td>\n",
       "      <td>0.75</td>\n",
       "      <td>11.0</td>\n",
       "      <td>6</td>\n",
       "    </tr>\n",
       "    <tr>\n",
       "      <th>6495</th>\n",
       "      <td>red</td>\n",
       "      <td>5.9</td>\n",
       "      <td>0.645</td>\n",
       "      <td>0.12</td>\n",
       "      <td>2.0</td>\n",
       "      <td>0.075</td>\n",
       "      <td>32.0</td>\n",
       "      <td>44.0</td>\n",
       "      <td>0.99547</td>\n",
       "      <td>3.57</td>\n",
       "      <td>0.71</td>\n",
       "      <td>10.2</td>\n",
       "      <td>5</td>\n",
       "    </tr>\n",
       "    <tr>\n",
       "      <th>6496</th>\n",
       "      <td>red</td>\n",
       "      <td>6.0</td>\n",
       "      <td>0.310</td>\n",
       "      <td>0.47</td>\n",
       "      <td>3.6</td>\n",
       "      <td>0.067</td>\n",
       "      <td>18.0</td>\n",
       "      <td>42.0</td>\n",
       "      <td>0.99549</td>\n",
       "      <td>3.39</td>\n",
       "      <td>0.66</td>\n",
       "      <td>11.0</td>\n",
       "      <td>6</td>\n",
       "    </tr>\n",
       "  </tbody>\n",
       "</table>\n",
       "<p>6463 rows × 13 columns</p>\n",
       "</div>"
      ],
      "text/plain": [
       "       type  fixed acidity  volatile acidity  citric acid  residual sugar  \\\n",
       "0     white            7.0             0.270         0.36            20.7   \n",
       "1     white            6.3             0.300         0.34             1.6   \n",
       "2     white            8.1             0.280         0.40             6.9   \n",
       "3     white            7.2             0.230         0.32             8.5   \n",
       "4     white            7.2             0.230         0.32             8.5   \n",
       "...     ...            ...               ...          ...             ...   \n",
       "6491    red            6.8             0.620         0.08             1.9   \n",
       "6492    red            6.2             0.600         0.08             2.0   \n",
       "6494    red            6.3             0.510         0.13             2.3   \n",
       "6495    red            5.9             0.645         0.12             2.0   \n",
       "6496    red            6.0             0.310         0.47             3.6   \n",
       "\n",
       "      chlorides  free sulfur dioxide  total sulfur dioxide  density    pH  \\\n",
       "0         0.045                 45.0                 170.0  1.00100  3.00   \n",
       "1         0.049                 14.0                 132.0  0.99400  3.30   \n",
       "2         0.050                 30.0                  97.0  0.99510  3.26   \n",
       "3         0.058                 47.0                 186.0  0.99560  3.19   \n",
       "4         0.058                 47.0                 186.0  0.99560  3.19   \n",
       "...         ...                  ...                   ...      ...   ...   \n",
       "6491      0.068                 28.0                  38.0  0.99651  3.42   \n",
       "6492      0.090                 32.0                  44.0  0.99490  3.45   \n",
       "6494      0.076                 29.0                  40.0  0.99574  3.42   \n",
       "6495      0.075                 32.0                  44.0  0.99547  3.57   \n",
       "6496      0.067                 18.0                  42.0  0.99549  3.39   \n",
       "\n",
       "      sulphates  alcohol  quality  \n",
       "0          0.45      8.8        6  \n",
       "1          0.49      9.5        6  \n",
       "2          0.44     10.1        6  \n",
       "3          0.40      9.9        6  \n",
       "4          0.40      9.9        6  \n",
       "...         ...      ...      ...  \n",
       "6491       0.82      9.5        6  \n",
       "6492       0.58     10.5        5  \n",
       "6494       0.75     11.0        6  \n",
       "6495       0.71     10.2        5  \n",
       "6496       0.66     11.0        6  \n",
       "\n",
       "[6463 rows x 13 columns]"
      ]
     },
     "execution_count": 2,
     "metadata": {},
     "output_type": "execute_result"
    }
   ],
   "source": [
    "wine = pd.read_csv(r'C:\\Users\\Raul\\OneDrive\\Escritorio\\CS\\TC2004B.101\\data\\winequalityN.csv')\n",
    "wine.dropna(inplace=True)\n",
    "wine"
   ]
  },
  {
   "cell_type": "markdown",
   "id": "8097c67c-32da-4f37-b2c6-e401a90386d4",
   "metadata": {},
   "source": [
    "Before we start doing anything else, we should check to see if our categories are balanced! For this notebook, we will only be using the \"type\" column."
   ]
  },
  {
   "cell_type": "code",
   "execution_count": 3,
   "id": "ff83ba2a-9077-4716-ae35-277e23043de2",
   "metadata": {},
   "outputs": [
    {
     "data": {
      "text/plain": [
       "'white'"
      ]
     },
     "execution_count": 3,
     "metadata": {},
     "output_type": "execute_result"
    },
    {
     "data": {
      "image/png": "[encoded data removed]",
      "text/plain": [
       "<Figure size 640x480 with 1 Axes>"
      ]
     },
     "metadata": {},
     "output_type": "display_data"
    }
   ],
   "source": [
    "y = wine[\"type\"]\n",
    "plt.bar(y.value_counts().index, y.value_counts()[:],\n",
    "        color = [\"white\",\"red\"],\n",
    "        edgecolor = [\"black\",[0,0,0]]\n",
    "       )\n",
    "plt.xlabel(\"Type of wine\")\n",
    "plt.ylabel(\"Occurrences\")\n",
    "plt.title(\"Balance of Red vs White wine\")\n",
    "y.value_counts().index[0]"
   ]
  },
  {
   "cell_type": "markdown",
   "id": "fa207ff9-b52f-400d-b296-7958c0075d03",
   "metadata": {},
   "source": [
    "The split is roughly 75-25, so our data is NOT balanced. This imbalance is not too extreme, but it will still affect our results. Our first experiments will be based on using SVMs without any other techniques, to see what happens. Let's split our dataset into inputs and outputs now!"
   ]
  },
  {
   "cell_type": "code",
   "execution_count": 4,
   "id": "fd1ac1f9-a821-4e98-a2db-f010624296ba",
   "metadata": {},
   "outputs": [
    {
     "data": {
      "text/html": [
       "<div>\n",
       "<style scoped>\n",
       "    .dataframe tbody tr th:only-of-type {\n",
       "        vertical-align: middle;\n",
       "    }\n",
       "\n",
       "    .dataframe tbody tr th {\n",
       "        vertical-align: top;\n",
       "    }\n",
       "\n",
       "    .dataframe thead th {\n",
       "        text-align: right;\n",
       "    }\n",
       "</style>\n",
       "<table border=\"1\" class=\"dataframe\">\n",
       "  <thead>\n",
       "    <tr style=\"text-align: right;\">\n",
       "      <th></th>\n",
       "      <th>fixed acidity</th>\n",
       "      <th>volatile acidity</th>\n",
       "      <th>citric acid</th>\n",
       "      <th>residual sugar</th>\n",
       "      <th>chlorides</th>\n",
       "      <th>free sulfur dioxide</th>\n",
       "      <th>total sulfur dioxide</th>\n",
       "      <th>density</th>\n",
       "      <th>pH</th>\n",
       "      <th>sulphates</th>\n",
       "      <th>alcohol</th>\n",
       "      <th>quality</th>\n",
       "    </tr>\n",
       "  </thead>\n",
       "  <tbody>\n",
       "    <tr>\n",
       "      <th>0</th>\n",
       "      <td>7.0</td>\n",
       "      <td>0.270</td>\n",
       "      <td>0.36</td>\n",
       "      <td>20.7</td>\n",
       "      <td>0.045</td>\n",
       "      <td>45.0</td>\n",
       "      <td>170.0</td>\n",
       "      <td>1.00100</td>\n",
       "      <td>3.00</td>\n",
       "      <td>0.45</td>\n",
       "      <td>8.8</td>\n",
       "      <td>6</td>\n",
       "    </tr>\n",
       "    <tr>\n",
       "      <th>1</th>\n",
       "      <td>6.3</td>\n",
       "      <td>0.300</td>\n",
       "      <td>0.34</td>\n",
       "      <td>1.6</td>\n",
       "      <td>0.049</td>\n",
       "      <td>14.0</td>\n",
       "      <td>132.0</td>\n",
       "      <td>0.99400</td>\n",
       "      <td>3.30</td>\n",
       "      <td>0.49</td>\n",
       "      <td>9.5</td>\n",
       "      <td>6</td>\n",
       "    </tr>\n",
       "    <tr>\n",
       "      <th>2</th>\n",
       "      <td>8.1</td>\n",
       "      <td>0.280</td>\n",
       "      <td>0.40</td>\n",
       "      <td>6.9</td>\n",
       "      <td>0.050</td>\n",
       "      <td>30.0</td>\n",
       "      <td>97.0</td>\n",
       "      <td>0.99510</td>\n",
       "      <td>3.26</td>\n",
       "      <td>0.44</td>\n",
       "      <td>10.1</td>\n",
       "      <td>6</td>\n",
       "    </tr>\n",
       "    <tr>\n",
       "      <th>3</th>\n",
       "      <td>7.2</td>\n",
       "      <td>0.230</td>\n",
       "      <td>0.32</td>\n",
       "      <td>8.5</td>\n",
       "      <td>0.058</td>\n",
       "      <td>47.0</td>\n",
       "      <td>186.0</td>\n",
       "      <td>0.99560</td>\n",
       "      <td>3.19</td>\n",
       "      <td>0.40</td>\n",
       "      <td>9.9</td>\n",
       "      <td>6</td>\n",
       "    </tr>\n",
       "    <tr>\n",
       "      <th>4</th>\n",
       "      <td>7.2</td>\n",
       "      <td>0.230</td>\n",
       "      <td>0.32</td>\n",
       "      <td>8.5</td>\n",
       "      <td>0.058</td>\n",
       "      <td>47.0</td>\n",
       "      <td>186.0</td>\n",
       "      <td>0.99560</td>\n",
       "      <td>3.19</td>\n",
       "      <td>0.40</td>\n",
       "      <td>9.9</td>\n",
       "      <td>6</td>\n",
       "    </tr>\n",
       "    <tr>\n",
       "      <th>...</th>\n",
       "      <td>...</td>\n",
       "      <td>...</td>\n",
       "      <td>...</td>\n",
       "      <td>...</td>\n",
       "      <td>...</td>\n",
       "      <td>...</td>\n",
       "      <td>...</td>\n",
       "      <td>...</td>\n",
       "      <td>...</td>\n",
       "      <td>...</td>\n",
       "      <td>...</td>\n",
       "      <td>...</td>\n",
       "    </tr>\n",
       "    <tr>\n",
       "      <th>6491</th>\n",
       "      <td>6.8</td>\n",
       "      <td>0.620</td>\n",
       "      <td>0.08</td>\n",
       "      <td>1.9</td>\n",
       "      <td>0.068</td>\n",
       "      <td>28.0</td>\n",
       "      <td>38.0</td>\n",
       "      <td>0.99651</td>\n",
       "      <td>3.42</td>\n",
       "      <td>0.82</td>\n",
       "      <td>9.5</td>\n",
       "      <td>6</td>\n",
       "    </tr>\n",
       "    <tr>\n",
       "      <th>6492</th>\n",
       "      <td>6.2</td>\n",
       "      <td>0.600</td>\n",
       "      <td>0.08</td>\n",
       "      <td>2.0</td>\n",
       "      <td>0.090</td>\n",
       "      <td>32.0</td>\n",
       "      <td>44.0</td>\n",
       "      <td>0.99490</td>\n",
       "      <td>3.45</td>\n",
       "      <td>0.58</td>\n",
       "      <td>10.5</td>\n",
       "      <td>5</td>\n",
       "    </tr>\n",
       "    <tr>\n",
       "      <th>6494</th>\n",
       "      <td>6.3</td>\n",
       "      <td>0.510</td>\n",
       "      <td>0.13</td>\n",
       "      <td>2.3</td>\n",
       "      <td>0.076</td>\n",
       "      <td>29.0</td>\n",
       "      <td>40.0</td>\n",
       "      <td>0.99574</td>\n",
       "      <td>3.42</td>\n",
       "      <td>0.75</td>\n",
       "      <td>11.0</td>\n",
       "      <td>6</td>\n",
       "    </tr>\n",
       "    <tr>\n",
       "      <th>6495</th>\n",
       "      <td>5.9</td>\n",
       "      <td>0.645</td>\n",
       "      <td>0.12</td>\n",
       "      <td>2.0</td>\n",
       "      <td>0.075</td>\n",
       "      <td>32.0</td>\n",
       "      <td>44.0</td>\n",
       "      <td>0.99547</td>\n",
       "      <td>3.57</td>\n",
       "      <td>0.71</td>\n",
       "      <td>10.2</td>\n",
       "      <td>5</td>\n",
       "    </tr>\n",
       "    <tr>\n",
       "      <th>6496</th>\n",
       "      <td>6.0</td>\n",
       "      <td>0.310</td>\n",
       "      <td>0.47</td>\n",
       "      <td>3.6</td>\n",
       "      <td>0.067</td>\n",
       "      <td>18.0</td>\n",
       "      <td>42.0</td>\n",
       "      <td>0.99549</td>\n",
       "      <td>3.39</td>\n",
       "      <td>0.66</td>\n",
       "      <td>11.0</td>\n",
       "      <td>6</td>\n",
       "    </tr>\n",
       "  </tbody>\n",
       "</table>\n",
       "<p>6463 rows × 12 columns</p>\n",
       "</div>"
      ],
      "text/plain": [
       "      fixed acidity  volatile acidity  citric acid  residual sugar  chlorides  \\\n",
       "0               7.0             0.270         0.36            20.7      0.045   \n",
       "1               6.3             0.300         0.34             1.6      0.049   \n",
       "2               8.1             0.280         0.40             6.9      0.050   \n",
       "3               7.2             0.230         0.32             8.5      0.058   \n",
       "4               7.2             0.230         0.32             8.5      0.058   \n",
       "...             ...               ...          ...             ...        ...   \n",
       "6491            6.8             0.620         0.08             1.9      0.068   \n",
       "6492            6.2             0.600         0.08             2.0      0.090   \n",
       "6494            6.3             0.510         0.13             2.3      0.076   \n",
       "6495            5.9             0.645         0.12             2.0      0.075   \n",
       "6496            6.0             0.310         0.47             3.6      0.067   \n",
       "\n",
       "      free sulfur dioxide  total sulfur dioxide  density    pH  sulphates  \\\n",
       "0                    45.0                 170.0  1.00100  3.00       0.45   \n",
       "1                    14.0                 132.0  0.99400  3.30       0.49   \n",
       "2                    30.0                  97.0  0.99510  3.26       0.44   \n",
       "3                    47.0                 186.0  0.99560  3.19       0.40   \n",
       "4                    47.0                 186.0  0.99560  3.19       0.40   \n",
       "...                   ...                   ...      ...   ...        ...   \n",
       "6491                 28.0                  38.0  0.99651  3.42       0.82   \n",
       "6492                 32.0                  44.0  0.99490  3.45       0.58   \n",
       "6494                 29.0                  40.0  0.99574  3.42       0.75   \n",
       "6495                 32.0                  44.0  0.99547  3.57       0.71   \n",
       "6496                 18.0                  42.0  0.99549  3.39       0.66   \n",
       "\n",
       "      alcohol  quality  \n",
       "0         8.8        6  \n",
       "1         9.5        6  \n",
       "2        10.1        6  \n",
       "3         9.9        6  \n",
       "4         9.9        6  \n",
       "...       ...      ...  \n",
       "6491      9.5        6  \n",
       "6492     10.5        5  \n",
       "6494     11.0        6  \n",
       "6495     10.2        5  \n",
       "6496     11.0        6  \n",
       "\n",
       "[6463 rows x 12 columns]"
      ]
     },
     "execution_count": 4,
     "metadata": {},
     "output_type": "execute_result"
    }
   ],
   "source": [
    "X = wine.iloc[:,1:]\n",
    "X"
   ]
  },
  {
   "cell_type": "markdown",
   "id": "fc09aff0-1ae5-4dae-9450-4e3bd04fa8d0",
   "metadata": {},
   "source": [
    "We'll be using an 80/20 train/test split."
   ]
  },
  {
   "cell_type": "code",
   "execution_count": 5,
   "id": "27eb87d0-2066-4b4c-8dae-2d71bfddac03",
   "metadata": {},
   "outputs": [],
   "source": [
    "from sklearn.model_selection import train_test_split\n",
    "X_train, X_test, y_train, y_test = train_test_split(X, y, train_size=0.8, random_state=42, shuffle=True)"
   ]
  },
  {
   "attachments": {},
   "cell_type": "markdown",
   "id": "4086852f-627a-4e01-83e4-33c493d70335",
   "metadata": {},
   "source": [
    "## SVMs: Support Vector Machines\n",
    "SVMs make use a hyperplane (meaning, a plane which can be of any number of dimensions) that splits a target space into different sections which maximize the distance between classes:\n",
    "\n",
    "<center>\n",
    "  <img src=\"https://editor.analyticsvidhya.com/uploads/729834.png\" />\n",
    "</center>\n",
    "\n",
    "What's more, SVMs are not restricted to only linear decision boundaries. They can make use of a kernel to translate the linear boundary to different shapes, and complexities. For this example, we will be using a polynomial kernel with a degree of two, meaning it can describe some curved boundaries. The selection of the kernel is not a trivial task, and should be given some thought in real applications."
   ]
  },
  {
   "cell_type": "code",
   "execution_count": 6,
   "id": "68a7da0f-04dc-4001-a803-c819ef0e8590",
   "metadata": {},
   "outputs": [],
   "source": [
    "from sklearn.svm import SVC \n",
    "svclassifier = SVC(\n",
    "    C = 1.0, # Regularization term. Higher = more noise = less overfitting\n",
    "    kernel = 'poly', # Kernel. 'rbf' is the default, 'linear' and 'poly' are also available\n",
    "    degree = 2, # Degree of the polynomial. Higher = more complexity\n",
    "    class_weight = None, # Weights for rebalancing or for changing class importance\n",
    "    max_iter = 10000, # Set to none to let it run as much as possible.\n",
    "    random_state = 42, \n",
    ")"
   ]
  },
  {
   "cell_type": "code",
   "execution_count": 7,
   "id": "74a754a0-6c9c-4b4d-aa5c-b1fcd80b8241",
   "metadata": {},
   "outputs": [
    {
     "data": {
      "text/html": [
       "<style>#sk-container-id-1 {color: black;}#sk-container-id-1 pre{padding: 0;}#sk-container-id-1 div.sk-toggleable {background-color: white;}#sk-container-id-1 label.sk-toggleable__label {cursor: pointer;display: block;width: 100%;margin-bottom: 0;padding: 0.3em;box-sizing: border-box;text-align: center;}#sk-container-id-1 label.sk-toggleable__label-arrow:before {content: \"▸\";float: left;margin-right: 0.25em;color: #696969;}#sk-container-id-1 label.sk-toggleable__label-arrow:hover:before {color: black;}#sk-container-id-1 div.sk-estimator:hover label.sk-toggleable__label-arrow:before {color: black;}#sk-container-id-1 div.sk-toggleable__content {max-height: 0;max-width: 0;overflow: hidden;text-align: left;background-color: #f0f8ff;}#sk-container-id-1 div.sk-toggleable__content pre {margin: 0.2em;color: black;border-radius: 0.25em;background-color: #f0f8ff;}#sk-container-id-1 input.sk-toggleable__control:checked~div.sk-toggleable__content {max-height: 200px;max-width: 100%;overflow: auto;}#sk-container-id-1 input.sk-toggleable__control:checked~label.sk-toggleable__label-arrow:before {content: \"▾\";}#sk-container-id-1 div.sk-estimator input.sk-toggleable__control:checked~label.sk-toggleable__label {background-color: #d4ebff;}#sk-container-id-1 div.sk-label input.sk-toggleable__control:checked~label.sk-toggleable__label {background-color: #d4ebff;}#sk-container-id-1 input.sk-hidden--visually {border: 0;clip: rect(1px 1px 1px 1px);clip: rect(1px, 1px, 1px, 1px);height: 1px;margin: -1px;overflow: hidden;padding: 0;position: absolute;width: 1px;}#sk-container-id-1 div.sk-estimator {font-family: monospace;background-color: #f0f8ff;border: 1px dotted black;border-radius: 0.25em;box-sizing: border-box;margin-bottom: 0.5em;}#sk-container-id-1 div.sk-estimator:hover {background-color: #d4ebff;}#sk-container-id-1 div.sk-parallel-item::after {content: \"\";width: 100%;border-bottom: 1px solid gray;flex-grow: 1;}#sk-container-id-1 div.sk-label:hover label.sk-toggleable__label {background-color: #d4ebff;}#sk-container-id-1 div.sk-serial::before {content: \"\";position: absolute;border-left: 1px solid gray;box-sizing: border-box;top: 0;bottom: 0;left: 50%;z-index: 0;}#sk-container-id-1 div.sk-serial {display: flex;flex-direction: column;align-items: center;background-color: white;padding-right: 0.2em;padding-left: 0.2em;position: relative;}#sk-container-id-1 div.sk-item {position: relative;z-index: 1;}#sk-container-id-1 div.sk-parallel {display: flex;align-items: stretch;justify-content: center;background-color: white;position: relative;}#sk-container-id-1 div.sk-item::before, #sk-container-id-1 div.sk-parallel-item::before {content: \"\";position: absolute;border-left: 1px solid gray;box-sizing: border-box;top: 0;bottom: 0;left: 50%;z-index: -1;}#sk-container-id-1 div.sk-parallel-item {display: flex;flex-direction: column;z-index: 1;position: relative;background-color: white;}#sk-container-id-1 div.sk-parallel-item:first-child::after {align-self: flex-end;width: 50%;}#sk-container-id-1 div.sk-parallel-item:last-child::after {align-self: flex-start;width: 50%;}#sk-container-id-1 div.sk-parallel-item:only-child::after {width: 0;}#sk-container-id-1 div.sk-dashed-wrapped {border: 1px dashed gray;margin: 0 0.4em 0.5em 0.4em;box-sizing: border-box;padding-bottom: 0.4em;background-color: white;}#sk-container-id-1 div.sk-label label {font-family: monospace;font-weight: bold;display: inline-block;line-height: 1.2em;}#sk-container-id-1 div.sk-label-container {text-align: center;}#sk-container-id-1 div.sk-container {/* jupyter's `normalize.less` sets `[hidden] { display: none; }` but bootstrap.min.css set `[hidden] { display: none !important; }` so we also need the `!important` here to be able to override the default hidden behavior on the sphinx rendered scikit-learn.org. See: https://github.com/scikit-learn/scikit-learn/issues/21755 */display: inline-block !important;position: relative;}#sk-container-id-1 div.sk-text-repr-fallback {display: none;}</style><div id=\"sk-container-id-1\" class=\"sk-top-container\"><div class=\"sk-text-repr-fallback\"><pre>SVC(degree=2, kernel=&#x27;poly&#x27;, max_iter=10000, random_state=42)</pre><b>In a Jupyter environment, please rerun this cell to show the HTML representation or trust the notebook. <br />On GitHub, the HTML representation is unable to render, please try loading this page with nbviewer.org.</b></div><div class=\"sk-container\" hidden><div class=\"sk-item\"><div class=\"sk-estimator sk-toggleable\"><input class=\"sk-toggleable__control sk-hidden--visually\" id=\"sk-estimator-id-1\" type=\"checkbox\" checked><label for=\"sk-estimator-id-1\" class=\"sk-toggleable__label sk-toggleable__label-arrow\">SVC</label><div class=\"sk-toggleable__content\"><pre>SVC(degree=2, kernel=&#x27;poly&#x27;, max_iter=10000, random_state=42)</pre></div></div></div></div></div>"
      ],
      "text/plain": [
       "SVC(degree=2, kernel='poly', max_iter=10000, random_state=42)"
      ]
     },
     "execution_count": 7,
     "metadata": {},
     "output_type": "execute_result"
    }
   ],
   "source": [
    "svclassifier.fit(X_train,y_train)"
   ]
  },
  {
   "cell_type": "markdown",
   "id": "a15e4b8e-5148-4071-b6d8-b7783c7ebcd9",
   "metadata": {},
   "source": [
    "We obtain a significant amount of accuracy using this model: 93%! However, we already know this is only half the story: Let's check the confusion matrix."
   ]
  },
  {
   "cell_type": "code",
   "execution_count": 8,
   "id": "7a0a4ab0-8f58-45a8-9c6d-18ea6959892e",
   "metadata": {},
   "outputs": [
    {
     "data": {
      "text/plain": [
       "0.9296210363495746"
      ]
     },
     "execution_count": 8,
     "metadata": {},
     "output_type": "execute_result"
    }
   ],
   "source": [
    "svclassifier.score(X_test, y_test)"
   ]
  },
  {
   "cell_type": "code",
   "execution_count": 9,
   "id": "c4036895-3797-4140-8bc1-97224b13a1b2",
   "metadata": {},
   "outputs": [],
   "source": [
    "from sklearn.metrics import confusion_matrix, f1_score, precision_score, recall_score\n",
    "import seaborn as sns"
   ]
  },
  {
   "cell_type": "code",
   "execution_count": 10,
   "id": "9f615195-4589-4460-a754-3891b2b00798",
   "metadata": {},
   "outputs": [
    {
     "data": {
      "text/plain": [
       "array(['red', 'white'], dtype=object)"
      ]
     },
     "execution_count": 10,
     "metadata": {},
     "output_type": "execute_result"
    }
   ],
   "source": [
    "y_pred = svclassifier.predict(X_test)\n",
    "svclassifier.classes_ # You can use this to get the labels and the order they were learned in"
   ]
  },
  {
   "cell_type": "code",
   "execution_count": 11,
   "id": "baf86d5b-a9ac-4134-b1fe-351087b80d2c",
   "metadata": {},
   "outputs": [
    {
     "data": {
      "text/plain": [
       "Text(58.222222222222214, 0.5, 'Labels')"
      ]
     },
     "execution_count": 11,
     "metadata": {},
     "output_type": "execute_result"
    },
    {
     "data": {
      "image/png": "[encoded data removed]",
      "text/plain": [
       "<Figure size 700x700 with 2 Axes>"
      ]
     },
     "metadata": {},
     "output_type": "display_data"
    }
   ],
   "source": [
    "cnfs = confusion_matrix(y_test, y_pred, normalize=\"true\")\n",
    "plt.figure(figsize=(7,7))\n",
    "sns.heatmap(cnfs,\n",
    "            annot=True,\n",
    "            cmap=\"Reds\",\n",
    "            vmin=0,\n",
    "            fmt='g',\n",
    "           )\n",
    "plt.xlabel(\"Preds\")\n",
    "plt.xticks(ticks=[0.5,1.5], labels=svclassifier.classes_)\n",
    "plt.yticks(ticks=[0.5,1.5], labels=svclassifier.classes_)\n",
    "plt.ylabel(\"Labels\")"
   ]
  },
  {
   "cell_type": "markdown",
   "id": "bc381698-b284-438e-8783-be8197cd94ad",
   "metadata": {},
   "source": [
    "SVMs are quite strong when dealing with noise, high dimensional spaces, and low complexity problems. They tend to arrive at better global solutions, and we can see our results generalized quite beautifully! Still, they tend to be harmed by data imbalance, and this has caused a difference of 15% between red and white wine classification.\n",
    "\n",
    "Handling confusion matrices can be a bit cumbersome, so let's discuss three (yes, three!) new metrics we can use to describe our results:"
   ]
  },
  {
   "cell_type": "markdown",
   "id": "5d77f278-9719-41d3-9cb6-936a77848cbe",
   "metadata": {},
   "source": [
    "## Metrics: Precison, Recall, and F1 Scores"
   ]
  },
  {
   "cell_type": "markdown",
   "id": "e70e23d3-7b82-46bc-809f-82133714adfb",
   "metadata": {},
   "source": [
    "Precision and Recall (also known as Sensitivity) are two important metrics that categorize our model in different ways:\n",
    "- Precision will be high if your model says that something is true **ONLY WHEN IT IS TRUE**. Models with high precision are great for problems where saying that something is true can be quite costly. Things like recommendation systems or assigning fault to people benefit from high precision, as it means our model will be very certain of something when it says it. \n",
    "- Recall will be high if your model says that something is true **EVEN AT THE COST OF IT BEING FALSE**. Models with high recall are great for problems where you really, really do not want to say that something isn't when *it could be*. Imagine a medical system to detect cancer: It is much better to have high recall (ensuring you will not give a false negative) even if your precision is low (even if you waste time and resources).\n",
    "\n",
    "\n",
    "In other words, Precision **rewards true positive**, and Recall **punishes false negatives**.\n",
    "\n",
    "We can combine both of these metrics with the F1 Score, which is the average of the two metrics (more or less)."
   ]
  },
  {
   "cell_type": "markdown",
   "id": "f4c82454-d766-4a09-944c-7653156e9de7",
   "metadata": {},
   "source": [
    "| Metric           | Formula                                     | Measures                                                                                                                                                                                    |\n",
    "|------------------|---------------------------------------------|---------------------------------------------------------------------------------------------------------------------------------------------------------------------------------------------|\n",
    "| Accuracy         | TP+TN / TP+TN+FP+FN                         | The amount of labels that were correctly predicted. Works excellently with balanced datasets                                                                                                |\n",
    "| Confusion Matrix | N/A                                         | Everything! It requires interpretation and can be difficult to compare.                                                                                                                     |\n",
    "| Precision        | TP / TP + FP                                | The percentage of the positive predictions that the model got correctly. High precision means that the model is unlikely to say something is of this category when it isn't.                |\n",
    "| Recall           | TP / TP + FN                                | The percentage of the positive predictions that the model did not confuse with negatives. High recall means that the model is unlikely to say something is NOT of this category when it is. |\n",
    "| F1 Score         | 2 * Precision * Recall / Precision + Recall | An \"average\" of the precision and recall, serves as a combined measurement.                                                                                                                 |"
   ]
  },
  {
   "attachments": {
    "aa63d083-85f6-47af-bb67-7c5ef527376f.jpg": {
     "image/jpeg": "[encoded data removed]"
    }
   },
   "cell_type": "markdown",
   "id": "2ca7c511-3ac7-49bc-a966-ff5467aa12b2",
   "metadata": {},
   "source": [
    "![1 d0UCCIF10Soi7VQGxdVrWQ.jpg](attachment:aa63d083-85f6-47af-bb67-7c5ef527376f.jpg)"
   ]
  },
  {
   "cell_type": "code",
   "execution_count": 12,
   "id": "567f2306-0da8-4c75-a810-e833a911f44d",
   "metadata": {},
   "outputs": [
    {
     "name": "stdout",
     "output_type": "stream",
     "text": [
      "The scores for red are: \n",
      "------------------\n",
      "F1 SCORE :  0.8525121555915721\n",
      "RECALL   :  0.8167701863354038\n",
      "PRECISION:  0.8915254237288136\n"
     ]
    },
    {
     "data": {
      "text/plain": [
       "(0.8525121555915721, 0.8167701863354038, 0.8915254237288136)"
      ]
     },
     "execution_count": 12,
     "metadata": {},
     "output_type": "execute_result"
    }
   ],
   "source": [
    "def get_scores(y_true, y_pred, positive):\n",
    "    f1 = f1_score(y_true, y_pred, average='binary', pos_label=positive)\n",
    "    recall = recall_score(y_true, y_pred, average='binary', pos_label=positive)\n",
    "    precision = precision_score(y_true, y_pred, average='binary', pos_label=positive)\n",
    "    print(\"The scores for \"+str(positive)+\" are: \")\n",
    "    print(\"------------------\")\n",
    "    print(\"F1 SCORE : \",f1)\n",
    "    print(\"RECALL   : \",recall)\n",
    "    print(\"PRECISION: \",precision)\n",
    "    return f1, recall, precision\n",
    "\n",
    "get_scores(y_test, y_pred, positive='red')"
   ]
  },
  {
   "cell_type": "code",
   "execution_count": 13,
   "id": "7d392802-fcae-433c-a55b-cf0843342623",
   "metadata": {},
   "outputs": [
    {
     "name": "stdout",
     "output_type": "stream",
     "text": [
      "The scores for white are: \n",
      "------------------\n",
      "F1 SCORE :  0.9537836465210767\n",
      "RECALL   :  0.9670442842430484\n",
      "PRECISION:  0.9408817635270541\n"
     ]
    },
    {
     "data": {
      "text/plain": [
       "(0.9537836465210767, 0.9670442842430484, 0.9408817635270541)"
      ]
     },
     "execution_count": 13,
     "metadata": {},
     "output_type": "execute_result"
    }
   ],
   "source": [
    "get_scores(y_test, y_pred, positive=\"white\")"
   ]
  },
  {
   "cell_type": "markdown",
   "id": "8b9cff0f-3c47-4fcd-ae55-52481fbe5248",
   "metadata": {},
   "source": [
    "So, as we can see, this model has the follwing attributes:\n",
    "- It has **high precision**, and **high recall** for *white* wine. It means it is very likely to correctly predict that a wine is white, and is it unlikely to say that a wine is red when it is white.\n",
    "- It has **high precision**, but **lower recall** for *red* wine. It means that is is likely to be correct if it ever says that a wine is red, but it may say that a wine is white when it is red.\n",
    "\n",
    "One final idea: Each of these scores is *per class*! This means they do not care *how many entries each class has*, but rather, *how each class individually performs*. That means it is possible to get the average of each class to have a metric that can tell you how good a model does *regardless of balancing*! We call these average precision, average recall, and average F1 scores. You can access them by simply adding the average='macro' or average='weighted' in the score function."
   ]
  },
  {
   "cell_type": "code",
   "execution_count": 14,
   "id": "717ee45b-4dad-4478-bae7-bcabe79de466",
   "metadata": {},
   "outputs": [
    {
     "data": {
      "text/plain": [
       "0.9031479010563244"
      ]
     },
     "execution_count": 14,
     "metadata": {},
     "output_type": "execute_result"
    }
   ],
   "source": [
    "f1_score(y_test, y_pred, average=\"macro\")"
   ]
  },
  {
   "cell_type": "markdown",
   "id": "fc09f00a-3e8d-4a90-9542-cffffd580f5d",
   "metadata": {},
   "source": [
    "This means our model's performance is more about a 90% rather than the 93% accuracy reported. It's still pretty good! Can we do anything to make it even better? Maybe, but there will likely be a trade-off between recall and precision."
   ]
  },
  {
   "cell_type": "markdown",
   "id": "18077dfa-e3e0-4c92-bc96-55b83169b5ec",
   "metadata": {},
   "source": [
    "## Encoding: Integer Encoding and One-Hot Encoding\n",
    "Something that is likely to cause problems in multiple class classification is how we handle our target column. Not doing anything is a possible choice, but we can get a little bit more performance from our model by considering how we describe this data. \n",
    "\n",
    "Two ideas are natural to use:\n",
    "- Assign each category to a different integer\n",
    "- Assign each category to a different binary column\n",
    "\n",
    "We discussed these more in-depth during class, and long story short, One-Hot Encoding should be your default option (memory permitting). Some models are more or less sensitive to which encoder you use: Neural Networks in particular will not like integer encoding. \n",
    "\n",
    "To visualize what these encoders do, we will use our old friend, seattle-weather.csv. This dataset has multiple categories, so we can see what each encoder does:"
   ]
  },
  {
   "cell_type": "code",
   "execution_count": 15,
   "id": "32d3ec69-1849-479f-984d-11c1a40f153d",
   "metadata": {},
   "outputs": [
    {
     "ename": "FileNotFoundError",
     "evalue": "[Errno 2] No such file or directory: 'seattle-weather.csv'",
     "output_type": "error",
     "traceback": [
      "\u001b[1;31m---------------------------------------------------------------------------\u001b[0m",
      "\u001b[1;31mFileNotFoundError\u001b[0m                         Traceback (most recent call last)",
      "Cell \u001b[1;32mIn[15], line 2\u001b[0m\n\u001b[0;32m      1\u001b[0m \u001b[38;5;28;01mfrom\u001b[39;00m \u001b[38;5;21;01msklearn\u001b[39;00m\u001b[38;5;21;01m.\u001b[39;00m\u001b[38;5;21;01mpreprocessing\u001b[39;00m \u001b[38;5;28;01mimport\u001b[39;00m LabelEncoder, LabelBinarizer, OneHotEncoder\n\u001b[1;32m----> 2\u001b[0m weather \u001b[38;5;241m=\u001b[39m \u001b[43mpd\u001b[49m\u001b[38;5;241;43m.\u001b[39;49m\u001b[43mread_csv\u001b[49m\u001b[43m(\u001b[49m\u001b[38;5;124;43m\"\u001b[39;49m\u001b[38;5;124;43mseattle-weather.csv\u001b[39;49m\u001b[38;5;124;43m\"\u001b[39;49m\u001b[43m)\u001b[49m[\u001b[38;5;124m\"\u001b[39m\u001b[38;5;124mweather\u001b[39m\u001b[38;5;124m\"\u001b[39m]\n\u001b[0;32m      3\u001b[0m weather\n",
      "File \u001b[1;32mc:\\Users\\Raul\\miniconda3\\envs\\ML\\lib\\site-packages\\pandas\\io\\parsers\\readers.py:948\u001b[0m, in \u001b[0;36mread_csv\u001b[1;34m(filepath_or_buffer, sep, delimiter, header, names, index_col, usecols, dtype, engine, converters, true_values, false_values, skipinitialspace, skiprows, skipfooter, nrows, na_values, keep_default_na, na_filter, verbose, skip_blank_lines, parse_dates, infer_datetime_format, keep_date_col, date_parser, date_format, dayfirst, cache_dates, iterator, chunksize, compression, thousands, decimal, lineterminator, quotechar, quoting, doublequote, escapechar, comment, encoding, encoding_errors, dialect, on_bad_lines, delim_whitespace, low_memory, memory_map, float_precision, storage_options, dtype_backend)\u001b[0m\n\u001b[0;32m    935\u001b[0m kwds_defaults \u001b[38;5;241m=\u001b[39m _refine_defaults_read(\n\u001b[0;32m    936\u001b[0m     dialect,\n\u001b[0;32m    937\u001b[0m     delimiter,\n\u001b[1;32m   (...)\u001b[0m\n\u001b[0;32m    944\u001b[0m     dtype_backend\u001b[38;5;241m=\u001b[39mdtype_backend,\n\u001b[0;32m    945\u001b[0m )\n\u001b[0;32m    946\u001b[0m kwds\u001b[38;5;241m.\u001b[39mupdate(kwds_defaults)\n\u001b[1;32m--> 948\u001b[0m \u001b[38;5;28;01mreturn\u001b[39;00m \u001b[43m_read\u001b[49m\u001b[43m(\u001b[49m\u001b[43mfilepath_or_buffer\u001b[49m\u001b[43m,\u001b[49m\u001b[43m \u001b[49m\u001b[43mkwds\u001b[49m\u001b[43m)\u001b[49m\n",
      "File \u001b[1;32mc:\\Users\\Raul\\miniconda3\\envs\\ML\\lib\\site-packages\\pandas\\io\\parsers\\readers.py:611\u001b[0m, in \u001b[0;36m_read\u001b[1;34m(filepath_or_buffer, kwds)\u001b[0m\n\u001b[0;32m    608\u001b[0m _validate_names(kwds\u001b[38;5;241m.\u001b[39mget(\u001b[38;5;124m\"\u001b[39m\u001b[38;5;124mnames\u001b[39m\u001b[38;5;124m\"\u001b[39m, \u001b[38;5;28;01mNone\u001b[39;00m))\n\u001b[0;32m    610\u001b[0m \u001b[38;5;66;03m# Create the parser.\u001b[39;00m\n\u001b[1;32m--> 611\u001b[0m parser \u001b[38;5;241m=\u001b[39m TextFileReader(filepath_or_buffer, \u001b[38;5;241m*\u001b[39m\u001b[38;5;241m*\u001b[39mkwds)\n\u001b[0;32m    613\u001b[0m \u001b[38;5;28;01mif\u001b[39;00m chunksize \u001b[38;5;129;01mor\u001b[39;00m iterator:\n\u001b[0;32m    614\u001b[0m     \u001b[38;5;28;01mreturn\u001b[39;00m parser\n",
      "File \u001b[1;32mc:\\Users\\Raul\\miniconda3\\envs\\ML\\lib\\site-packages\\pandas\\io\\parsers\\readers.py:1448\u001b[0m, in \u001b[0;36mTextFileReader.__init__\u001b[1;34m(self, f, engine, **kwds)\u001b[0m\n\u001b[0;32m   1445\u001b[0m     \u001b[38;5;28mself\u001b[39m\u001b[38;5;241m.\u001b[39moptions[\u001b[38;5;124m\"\u001b[39m\u001b[38;5;124mhas_index_names\u001b[39m\u001b[38;5;124m\"\u001b[39m] \u001b[38;5;241m=\u001b[39m kwds[\u001b[38;5;124m\"\u001b[39m\u001b[38;5;124mhas_index_names\u001b[39m\u001b[38;5;124m\"\u001b[39m]\n\u001b[0;32m   1447\u001b[0m \u001b[38;5;28mself\u001b[39m\u001b[38;5;241m.\u001b[39mhandles: IOHandles \u001b[38;5;241m|\u001b[39m \u001b[38;5;28;01mNone\u001b[39;00m \u001b[38;5;241m=\u001b[39m \u001b[38;5;28;01mNone\u001b[39;00m\n\u001b[1;32m-> 1448\u001b[0m \u001b[38;5;28mself\u001b[39m\u001b[38;5;241m.\u001b[39m_engine \u001b[38;5;241m=\u001b[39m \u001b[38;5;28;43mself\u001b[39;49m\u001b[38;5;241;43m.\u001b[39;49m\u001b[43m_make_engine\u001b[49m\u001b[43m(\u001b[49m\u001b[43mf\u001b[49m\u001b[43m,\u001b[49m\u001b[43m \u001b[49m\u001b[38;5;28;43mself\u001b[39;49m\u001b[38;5;241;43m.\u001b[39;49m\u001b[43mengine\u001b[49m\u001b[43m)\u001b[49m\n",
      "File \u001b[1;32mc:\\Users\\Raul\\miniconda3\\envs\\ML\\lib\\site-packages\\pandas\\io\\parsers\\readers.py:1705\u001b[0m, in \u001b[0;36mTextFileReader._make_engine\u001b[1;34m(self, f, engine)\u001b[0m\n\u001b[0;32m   1703\u001b[0m     \u001b[38;5;28;01mif\u001b[39;00m \u001b[38;5;124m\"\u001b[39m\u001b[38;5;124mb\u001b[39m\u001b[38;5;124m\"\u001b[39m \u001b[38;5;129;01mnot\u001b[39;00m \u001b[38;5;129;01min\u001b[39;00m mode:\n\u001b[0;32m   1704\u001b[0m         mode \u001b[38;5;241m+\u001b[39m\u001b[38;5;241m=\u001b[39m \u001b[38;5;124m\"\u001b[39m\u001b[38;5;124mb\u001b[39m\u001b[38;5;124m\"\u001b[39m\n\u001b[1;32m-> 1705\u001b[0m \u001b[38;5;28mself\u001b[39m\u001b[38;5;241m.\u001b[39mhandles \u001b[38;5;241m=\u001b[39m \u001b[43mget_handle\u001b[49m\u001b[43m(\u001b[49m\n\u001b[0;32m   1706\u001b[0m \u001b[43m    \u001b[49m\u001b[43mf\u001b[49m\u001b[43m,\u001b[49m\n\u001b[0;32m   1707\u001b[0m \u001b[43m    \u001b[49m\u001b[43mmode\u001b[49m\u001b[43m,\u001b[49m\n\u001b[0;32m   1708\u001b[0m \u001b[43m    \u001b[49m\u001b[43mencoding\u001b[49m\u001b[38;5;241;43m=\u001b[39;49m\u001b[38;5;28;43mself\u001b[39;49m\u001b[38;5;241;43m.\u001b[39;49m\u001b[43moptions\u001b[49m\u001b[38;5;241;43m.\u001b[39;49m\u001b[43mget\u001b[49m\u001b[43m(\u001b[49m\u001b[38;5;124;43m\"\u001b[39;49m\u001b[38;5;124;43mencoding\u001b[39;49m\u001b[38;5;124;43m\"\u001b[39;49m\u001b[43m,\u001b[49m\u001b[43m \u001b[49m\u001b[38;5;28;43;01mNone\u001b[39;49;00m\u001b[43m)\u001b[49m\u001b[43m,\u001b[49m\n\u001b[0;32m   1709\u001b[0m \u001b[43m    \u001b[49m\u001b[43mcompression\u001b[49m\u001b[38;5;241;43m=\u001b[39;49m\u001b[38;5;28;43mself\u001b[39;49m\u001b[38;5;241;43m.\u001b[39;49m\u001b[43moptions\u001b[49m\u001b[38;5;241;43m.\u001b[39;49m\u001b[43mget\u001b[49m\u001b[43m(\u001b[49m\u001b[38;5;124;43m\"\u001b[39;49m\u001b[38;5;124;43mcompression\u001b[39;49m\u001b[38;5;124;43m\"\u001b[39;49m\u001b[43m,\u001b[49m\u001b[43m \u001b[49m\u001b[38;5;28;43;01mNone\u001b[39;49;00m\u001b[43m)\u001b[49m\u001b[43m,\u001b[49m\n\u001b[0;32m   1710\u001b[0m \u001b[43m    \u001b[49m\u001b[43mmemory_map\u001b[49m\u001b[38;5;241;43m=\u001b[39;49m\u001b[38;5;28;43mself\u001b[39;49m\u001b[38;5;241;43m.\u001b[39;49m\u001b[43moptions\u001b[49m\u001b[38;5;241;43m.\u001b[39;49m\u001b[43mget\u001b[49m\u001b[43m(\u001b[49m\u001b[38;5;124;43m\"\u001b[39;49m\u001b[38;5;124;43mmemory_map\u001b[39;49m\u001b[38;5;124;43m\"\u001b[39;49m\u001b[43m,\u001b[49m\u001b[43m \u001b[49m\u001b[38;5;28;43;01mFalse\u001b[39;49;00m\u001b[43m)\u001b[49m\u001b[43m,\u001b[49m\n\u001b[0;32m   1711\u001b[0m \u001b[43m    \u001b[49m\u001b[43mis_text\u001b[49m\u001b[38;5;241;43m=\u001b[39;49m\u001b[43mis_text\u001b[49m\u001b[43m,\u001b[49m\n\u001b[0;32m   1712\u001b[0m \u001b[43m    \u001b[49m\u001b[43merrors\u001b[49m\u001b[38;5;241;43m=\u001b[39;49m\u001b[38;5;28;43mself\u001b[39;49m\u001b[38;5;241;43m.\u001b[39;49m\u001b[43moptions\u001b[49m\u001b[38;5;241;43m.\u001b[39;49m\u001b[43mget\u001b[49m\u001b[43m(\u001b[49m\u001b[38;5;124;43m\"\u001b[39;49m\u001b[38;5;124;43mencoding_errors\u001b[39;49m\u001b[38;5;124;43m\"\u001b[39;49m\u001b[43m,\u001b[49m\u001b[43m \u001b[49m\u001b[38;5;124;43m\"\u001b[39;49m\u001b[38;5;124;43mstrict\u001b[39;49m\u001b[38;5;124;43m\"\u001b[39;49m\u001b[43m)\u001b[49m\u001b[43m,\u001b[49m\n\u001b[0;32m   1713\u001b[0m \u001b[43m    \u001b[49m\u001b[43mstorage_options\u001b[49m\u001b[38;5;241;43m=\u001b[39;49m\u001b[38;5;28;43mself\u001b[39;49m\u001b[38;5;241;43m.\u001b[39;49m\u001b[43moptions\u001b[49m\u001b[38;5;241;43m.\u001b[39;49m\u001b[43mget\u001b[49m\u001b[43m(\u001b[49m\u001b[38;5;124;43m\"\u001b[39;49m\u001b[38;5;124;43mstorage_options\u001b[39;49m\u001b[38;5;124;43m\"\u001b[39;49m\u001b[43m,\u001b[49m\u001b[43m \u001b[49m\u001b[38;5;28;43;01mNone\u001b[39;49;00m\u001b[43m)\u001b[49m\u001b[43m,\u001b[49m\n\u001b[0;32m   1714\u001b[0m \u001b[43m\u001b[49m\u001b[43m)\u001b[49m\n\u001b[0;32m   1715\u001b[0m \u001b[38;5;28;01massert\u001b[39;00m \u001b[38;5;28mself\u001b[39m\u001b[38;5;241m.\u001b[39mhandles \u001b[38;5;129;01mis\u001b[39;00m \u001b[38;5;129;01mnot\u001b[39;00m \u001b[38;5;28;01mNone\u001b[39;00m\n\u001b[0;32m   1716\u001b[0m f \u001b[38;5;241m=\u001b[39m \u001b[38;5;28mself\u001b[39m\u001b[38;5;241m.\u001b[39mhandles\u001b[38;5;241m.\u001b[39mhandle\n",
      "File \u001b[1;32mc:\\Users\\Raul\\miniconda3\\envs\\ML\\lib\\site-packages\\pandas\\io\\common.py:863\u001b[0m, in \u001b[0;36mget_handle\u001b[1;34m(path_or_buf, mode, encoding, compression, memory_map, is_text, errors, storage_options)\u001b[0m\n\u001b[0;32m    858\u001b[0m \u001b[38;5;28;01melif\u001b[39;00m \u001b[38;5;28misinstance\u001b[39m(handle, \u001b[38;5;28mstr\u001b[39m):\n\u001b[0;32m    859\u001b[0m     \u001b[38;5;66;03m# Check whether the filename is to be opened in binary mode.\u001b[39;00m\n\u001b[0;32m    860\u001b[0m     \u001b[38;5;66;03m# Binary mode does not support 'encoding' and 'newline'.\u001b[39;00m\n\u001b[0;32m    861\u001b[0m     \u001b[38;5;28;01mif\u001b[39;00m ioargs\u001b[38;5;241m.\u001b[39mencoding \u001b[38;5;129;01mand\u001b[39;00m \u001b[38;5;124m\"\u001b[39m\u001b[38;5;124mb\u001b[39m\u001b[38;5;124m\"\u001b[39m \u001b[38;5;129;01mnot\u001b[39;00m \u001b[38;5;129;01min\u001b[39;00m ioargs\u001b[38;5;241m.\u001b[39mmode:\n\u001b[0;32m    862\u001b[0m         \u001b[38;5;66;03m# Encoding\u001b[39;00m\n\u001b[1;32m--> 863\u001b[0m         handle \u001b[38;5;241m=\u001b[39m \u001b[38;5;28;43mopen\u001b[39;49m\u001b[43m(\u001b[49m\n\u001b[0;32m    864\u001b[0m \u001b[43m            \u001b[49m\u001b[43mhandle\u001b[49m\u001b[43m,\u001b[49m\n\u001b[0;32m    865\u001b[0m \u001b[43m            \u001b[49m\u001b[43mioargs\u001b[49m\u001b[38;5;241;43m.\u001b[39;49m\u001b[43mmode\u001b[49m\u001b[43m,\u001b[49m\n\u001b[0;32m    866\u001b[0m \u001b[43m            \u001b[49m\u001b[43mencoding\u001b[49m\u001b[38;5;241;43m=\u001b[39;49m\u001b[43mioargs\u001b[49m\u001b[38;5;241;43m.\u001b[39;49m\u001b[43mencoding\u001b[49m\u001b[43m,\u001b[49m\n\u001b[0;32m    867\u001b[0m \u001b[43m            \u001b[49m\u001b[43merrors\u001b[49m\u001b[38;5;241;43m=\u001b[39;49m\u001b[43merrors\u001b[49m\u001b[43m,\u001b[49m\n\u001b[0;32m    868\u001b[0m \u001b[43m            \u001b[49m\u001b[43mnewline\u001b[49m\u001b[38;5;241;43m=\u001b[39;49m\u001b[38;5;124;43m\"\u001b[39;49m\u001b[38;5;124;43m\"\u001b[39;49m\u001b[43m,\u001b[49m\n\u001b[0;32m    869\u001b[0m \u001b[43m        \u001b[49m\u001b[43m)\u001b[49m\n\u001b[0;32m    870\u001b[0m     \u001b[38;5;28;01melse\u001b[39;00m:\n\u001b[0;32m    871\u001b[0m         \u001b[38;5;66;03m# Binary mode\u001b[39;00m\n\u001b[0;32m    872\u001b[0m         handle \u001b[38;5;241m=\u001b[39m \u001b[38;5;28mopen\u001b[39m(handle, ioargs\u001b[38;5;241m.\u001b[39mmode)\n",
      "\u001b[1;31mFileNotFoundError\u001b[0m: [Errno 2] No such file or directory: 'seattle-weather.csv'"
     ]
    }
   ],
   "source": [
    "from sklearn.preprocessing import LabelEncoder, LabelBinarizer, OneHotEncoder\n",
    "weather = pd.read_csv(\"seattle-weather.csv\")[\"weather\"]\n",
    "weather"
   ]
  },
  {
   "cell_type": "code",
   "execution_count": null,
   "id": "a52cfbcf-3c56-4c48-b63a-2f204fb17714",
   "metadata": {},
   "outputs": [
    {
     "data": {
      "text/html": [
       "<div>\n",
       "<style scoped>\n",
       "    .dataframe tbody tr th:only-of-type {\n",
       "        vertical-align: middle;\n",
       "    }\n",
       "\n",
       "    .dataframe tbody tr th {\n",
       "        vertical-align: top;\n",
       "    }\n",
       "\n",
       "    .dataframe thead th {\n",
       "        text-align: right;\n",
       "    }\n",
       "</style>\n",
       "<table border=\"1\" class=\"dataframe\">\n",
       "  <thead>\n",
       "    <tr style=\"text-align: right;\">\n",
       "      <th></th>\n",
       "      <th>0</th>\n",
       "    </tr>\n",
       "  </thead>\n",
       "  <tbody>\n",
       "    <tr>\n",
       "      <th>0</th>\n",
       "      <td>0</td>\n",
       "    </tr>\n",
       "    <tr>\n",
       "      <th>1</th>\n",
       "      <td>2</td>\n",
       "    </tr>\n",
       "    <tr>\n",
       "      <th>2</th>\n",
       "      <td>2</td>\n",
       "    </tr>\n",
       "    <tr>\n",
       "      <th>3</th>\n",
       "      <td>2</td>\n",
       "    </tr>\n",
       "    <tr>\n",
       "      <th>4</th>\n",
       "      <td>2</td>\n",
       "    </tr>\n",
       "    <tr>\n",
       "      <th>...</th>\n",
       "      <td>...</td>\n",
       "    </tr>\n",
       "    <tr>\n",
       "      <th>1456</th>\n",
       "      <td>2</td>\n",
       "    </tr>\n",
       "    <tr>\n",
       "      <th>1457</th>\n",
       "      <td>2</td>\n",
       "    </tr>\n",
       "    <tr>\n",
       "      <th>1458</th>\n",
       "      <td>1</td>\n",
       "    </tr>\n",
       "    <tr>\n",
       "      <th>1459</th>\n",
       "      <td>4</td>\n",
       "    </tr>\n",
       "    <tr>\n",
       "      <th>1460</th>\n",
       "      <td>4</td>\n",
       "    </tr>\n",
       "  </tbody>\n",
       "</table>\n",
       "<p>1461 rows × 1 columns</p>\n",
       "</div>"
      ],
      "text/plain": [
       "      0\n",
       "0     0\n",
       "1     2\n",
       "2     2\n",
       "3     2\n",
       "4     2\n",
       "...  ..\n",
       "1456  2\n",
       "1457  2\n",
       "1458  1\n",
       "1459  4\n",
       "1460  4\n",
       "\n",
       "[1461 rows x 1 columns]"
      ]
     },
     "execution_count": 19,
     "metadata": {},
     "output_type": "execute_result"
    }
   ],
   "source": [
    "le = LabelEncoder()\n",
    "le.fit(weather)\n",
    "y_transformed = le.transform(weather)\n",
    "pd.DataFrame(y_transformed)"
   ]
  },
  {
   "cell_type": "markdown",
   "id": "92c82278-a25c-4451-8cde-9ac0e37aebbd",
   "metadata": {},
   "source": [
    "With LabelEncoder(), we assign each category to an integer in a single column, from 0 to 4 for 5 classes."
   ]
  },
  {
   "cell_type": "code",
   "execution_count": null,
   "id": "8202c367-f1df-4f70-a335-b65d057d3dd0",
   "metadata": {},
   "outputs": [
    {
     "data": {
      "text/plain": [
       "array(['drizzle', 'rain', 'rain', ..., 'fog', 'sun', 'sun'], dtype=object)"
      ]
     },
     "execution_count": 20,
     "metadata": {},
     "output_type": "execute_result"
    }
   ],
   "source": [
    "le.inverse_transform(y_transformed)"
   ]
  },
  {
   "cell_type": "code",
   "execution_count": null,
   "id": "5d6bbbeb-7c91-4154-b0e7-15142567c617",
   "metadata": {},
   "outputs": [
    {
     "data": {
      "text/html": [
       "<div>\n",
       "<style scoped>\n",
       "    .dataframe tbody tr th:only-of-type {\n",
       "        vertical-align: middle;\n",
       "    }\n",
       "\n",
       "    .dataframe tbody tr th {\n",
       "        vertical-align: top;\n",
       "    }\n",
       "\n",
       "    .dataframe thead th {\n",
       "        text-align: right;\n",
       "    }\n",
       "</style>\n",
       "<table border=\"1\" class=\"dataframe\">\n",
       "  <thead>\n",
       "    <tr style=\"text-align: right;\">\n",
       "      <th></th>\n",
       "      <th>0</th>\n",
       "      <th>1</th>\n",
       "      <th>2</th>\n",
       "      <th>3</th>\n",
       "      <th>4</th>\n",
       "    </tr>\n",
       "  </thead>\n",
       "  <tbody>\n",
       "    <tr>\n",
       "      <th>0</th>\n",
       "      <td>1</td>\n",
       "      <td>0</td>\n",
       "      <td>0</td>\n",
       "      <td>0</td>\n",
       "      <td>0</td>\n",
       "    </tr>\n",
       "    <tr>\n",
       "      <th>1</th>\n",
       "      <td>0</td>\n",
       "      <td>0</td>\n",
       "      <td>1</td>\n",
       "      <td>0</td>\n",
       "      <td>0</td>\n",
       "    </tr>\n",
       "    <tr>\n",
       "      <th>2</th>\n",
       "      <td>0</td>\n",
       "      <td>0</td>\n",
       "      <td>1</td>\n",
       "      <td>0</td>\n",
       "      <td>0</td>\n",
       "    </tr>\n",
       "    <tr>\n",
       "      <th>3</th>\n",
       "      <td>0</td>\n",
       "      <td>0</td>\n",
       "      <td>1</td>\n",
       "      <td>0</td>\n",
       "      <td>0</td>\n",
       "    </tr>\n",
       "    <tr>\n",
       "      <th>4</th>\n",
       "      <td>0</td>\n",
       "      <td>0</td>\n",
       "      <td>1</td>\n",
       "      <td>0</td>\n",
       "      <td>0</td>\n",
       "    </tr>\n",
       "    <tr>\n",
       "      <th>...</th>\n",
       "      <td>...</td>\n",
       "      <td>...</td>\n",
       "      <td>...</td>\n",
       "      <td>...</td>\n",
       "      <td>...</td>\n",
       "    </tr>\n",
       "    <tr>\n",
       "      <th>1456</th>\n",
       "      <td>0</td>\n",
       "      <td>0</td>\n",
       "      <td>1</td>\n",
       "      <td>0</td>\n",
       "      <td>0</td>\n",
       "    </tr>\n",
       "    <tr>\n",
       "      <th>1457</th>\n",
       "      <td>0</td>\n",
       "      <td>0</td>\n",
       "      <td>1</td>\n",
       "      <td>0</td>\n",
       "      <td>0</td>\n",
       "    </tr>\n",
       "    <tr>\n",
       "      <th>1458</th>\n",
       "      <td>0</td>\n",
       "      <td>1</td>\n",
       "      <td>0</td>\n",
       "      <td>0</td>\n",
       "      <td>0</td>\n",
       "    </tr>\n",
       "    <tr>\n",
       "      <th>1459</th>\n",
       "      <td>0</td>\n",
       "      <td>0</td>\n",
       "      <td>0</td>\n",
       "      <td>0</td>\n",
       "      <td>1</td>\n",
       "    </tr>\n",
       "    <tr>\n",
       "      <th>1460</th>\n",
       "      <td>0</td>\n",
       "      <td>0</td>\n",
       "      <td>0</td>\n",
       "      <td>0</td>\n",
       "      <td>1</td>\n",
       "    </tr>\n",
       "  </tbody>\n",
       "</table>\n",
       "<p>1461 rows × 5 columns</p>\n",
       "</div>"
      ],
      "text/plain": [
       "      0  1  2  3  4\n",
       "0     1  0  0  0  0\n",
       "1     0  0  1  0  0\n",
       "2     0  0  1  0  0\n",
       "3     0  0  1  0  0\n",
       "4     0  0  1  0  0\n",
       "...  .. .. .. .. ..\n",
       "1456  0  0  1  0  0\n",
       "1457  0  0  1  0  0\n",
       "1458  0  1  0  0  0\n",
       "1459  0  0  0  0  1\n",
       "1460  0  0  0  0  1\n",
       "\n",
       "[1461 rows x 5 columns]"
      ]
     },
     "execution_count": 21,
     "metadata": {},
     "output_type": "execute_result"
    }
   ],
   "source": [
    "ohe = LabelBinarizer()\n",
    "ohe.fit(weather)\n",
    "y_ohe = ohe.transform(weather)\n",
    "pd.DataFrame(y_ohe)"
   ]
  },
  {
   "cell_type": "markdown",
   "id": "db6450c1-a90f-48dc-97f0-51e989fcbccb",
   "metadata": {},
   "source": [
    "With One-Hot encoding, we assign each label to a separate column, a total of 5 columns for 5 classes. Note that for the case of binary classification, this is exactly the same: One binary column, or two integers in a single column (which is... well, a binary column).\n",
    "\n",
    "Let's transform our y data to our integer representation! Note that SciKit Learn does this internally for binary cases, so this will not have a significant effect on our performance for the wine dataset."
   ]
  },
  {
   "cell_type": "code",
   "execution_count": null,
   "id": "2a25e54a-3ae3-4556-a3a7-d21c203a7682",
   "metadata": {},
   "outputs": [
    {
     "data": {
      "text/html": [
       "<div>\n",
       "<style scoped>\n",
       "    .dataframe tbody tr th:only-of-type {\n",
       "        vertical-align: middle;\n",
       "    }\n",
       "\n",
       "    .dataframe tbody tr th {\n",
       "        vertical-align: top;\n",
       "    }\n",
       "\n",
       "    .dataframe thead th {\n",
       "        text-align: right;\n",
       "    }\n",
       "</style>\n",
       "<table border=\"1\" class=\"dataframe\">\n",
       "  <thead>\n",
       "    <tr style=\"text-align: right;\">\n",
       "      <th></th>\n",
       "      <th>0</th>\n",
       "    </tr>\n",
       "  </thead>\n",
       "  <tbody>\n",
       "    <tr>\n",
       "      <th>0</th>\n",
       "      <td>1</td>\n",
       "    </tr>\n",
       "    <tr>\n",
       "      <th>1</th>\n",
       "      <td>1</td>\n",
       "    </tr>\n",
       "    <tr>\n",
       "      <th>2</th>\n",
       "      <td>1</td>\n",
       "    </tr>\n",
       "    <tr>\n",
       "      <th>3</th>\n",
       "      <td>1</td>\n",
       "    </tr>\n",
       "    <tr>\n",
       "      <th>4</th>\n",
       "      <td>1</td>\n",
       "    </tr>\n",
       "    <tr>\n",
       "      <th>...</th>\n",
       "      <td>...</td>\n",
       "    </tr>\n",
       "    <tr>\n",
       "      <th>6458</th>\n",
       "      <td>0</td>\n",
       "    </tr>\n",
       "    <tr>\n",
       "      <th>6459</th>\n",
       "      <td>0</td>\n",
       "    </tr>\n",
       "    <tr>\n",
       "      <th>6460</th>\n",
       "      <td>0</td>\n",
       "    </tr>\n",
       "    <tr>\n",
       "      <th>6461</th>\n",
       "      <td>0</td>\n",
       "    </tr>\n",
       "    <tr>\n",
       "      <th>6462</th>\n",
       "      <td>0</td>\n",
       "    </tr>\n",
       "  </tbody>\n",
       "</table>\n",
       "<p>6463 rows × 1 columns</p>\n",
       "</div>"
      ],
      "text/plain": [
       "      0\n",
       "0     1\n",
       "1     1\n",
       "2     1\n",
       "3     1\n",
       "4     1\n",
       "...  ..\n",
       "6458  0\n",
       "6459  0\n",
       "6460  0\n",
       "6461  0\n",
       "6462  0\n",
       "\n",
       "[6463 rows x 1 columns]"
      ]
     },
     "execution_count": 25,
     "metadata": {},
     "output_type": "execute_result"
    }
   ],
   "source": [
    "le = LabelEncoder()\n",
    "le.fit(y)\n",
    "y_transformed = le.transform(y)\n",
    "pd.DataFrame(y_transformed)"
   ]
  },
  {
   "cell_type": "code",
   "execution_count": null,
   "id": "f0457a56-5056-4c2d-bcb7-246654913d2f",
   "metadata": {},
   "outputs": [
    {
     "data": {
      "text/plain": [
       "array(['white', 'white', 'white', ..., 'red', 'red', 'red'], dtype=object)"
      ]
     },
     "execution_count": 26,
     "metadata": {},
     "output_type": "execute_result"
    }
   ],
   "source": [
    "le.inverse_transform(y_transformed)"
   ]
  },
  {
   "cell_type": "code",
   "execution_count": null,
   "id": "534d2931-0d52-4225-9484-eba1ff68b53f",
   "metadata": {},
   "outputs": [],
   "source": []
  },
  {
   "cell_type": "markdown",
   "id": "bfff5311-0c51-4b75-9e5d-fdf3abd231c7",
   "metadata": {},
   "source": [
    "## Imbalanced Data: Resampling\n",
    "So far, we have hand-waved away the problem of balanced data by using weighting to increase or decrease the importance of each class. This, however, does not solve the problem we actually have:\n",
    "\n",
    "**Our data favors one class over other.**\n",
    "\n",
    "This simple fact means that our model has two options: It *learns less*, because it cannot make use of data that favors the majority class, or it *learns in a skewed manner*, because it assumes the real world favors the majority class.\n",
    "\n",
    "Most often this is an unwanted behavior. There is no magic bullet to fix this, but we can take advantage of a powerful technique: Resampling.\n",
    "\n",
    "First, we will need a new library: Imbalanced Learn"
   ]
  },
  {
   "cell_type": "code",
   "execution_count": null,
   "id": "cd6c13a5-61d7-4745-a501-665c33ad9c28",
   "metadata": {},
   "outputs": [],
   "source": [
    "!pip install imbalanced-learn"
   ]
  },
  {
   "cell_type": "code",
   "execution_count": null,
   "id": "fa869852-5290-4a10-8a81-5a9928c14f4b",
   "metadata": {},
   "outputs": [],
   "source": [
    "X_train, X_test, y_train, y_test = train_test_split(X, y_transformed, train_size=0.8, random_state=42, shuffle=True)\n",
    "# Our data has changed since we made the encoding, so we resplit it."
   ]
  },
  {
   "cell_type": "markdown",
   "id": "e5c67141-4b03-47cf-ae7c-2cd22f49ca51",
   "metadata": {},
   "source": [
    "Resampling is simple: Instead of using the samples we already have, we will... well, sample again! We take data from our dataset as it if was our total population, with the goal of achieving a more balanced class outlook.\n",
    "\n",
    "We have to possible options:\n",
    "- We **undersample**, by taking less examples of the majority class.\n",
    "- We **oversample**, by taking more examples of the minority class.\n",
    "\n",
    "Something to consider: Resampling will *change the distribution of your data*. Unless you have a good reason for doing so, **do NOT** apply resampling to your test set.\n",
    "\n",
    "### Undersampling\n",
    "This technique is simple in theory: We just take less of the majority class! We can use something like random sampling."
   ]
  },
  {
   "cell_type": "code",
   "execution_count": null,
   "id": "025a4875-a5ef-4d13-b7fe-70733ed19764",
   "metadata": {},
   "outputs": [
    {
     "data": {
      "text/html": [
       "<div>\n",
       "<style scoped>\n",
       "    .dataframe tbody tr th:only-of-type {\n",
       "        vertical-align: middle;\n",
       "    }\n",
       "\n",
       "    .dataframe tbody tr th {\n",
       "        vertical-align: top;\n",
       "    }\n",
       "\n",
       "    .dataframe thead th {\n",
       "        text-align: right;\n",
       "    }\n",
       "</style>\n",
       "<table border=\"1\" class=\"dataframe\">\n",
       "  <thead>\n",
       "    <tr style=\"text-align: right;\">\n",
       "      <th></th>\n",
       "      <th>fixed acidity</th>\n",
       "      <th>volatile acidity</th>\n",
       "      <th>citric acid</th>\n",
       "      <th>residual sugar</th>\n",
       "      <th>chlorides</th>\n",
       "      <th>free sulfur dioxide</th>\n",
       "      <th>total sulfur dioxide</th>\n",
       "      <th>density</th>\n",
       "      <th>pH</th>\n",
       "      <th>sulphates</th>\n",
       "      <th>alcohol</th>\n",
       "      <th>quality</th>\n",
       "    </tr>\n",
       "  </thead>\n",
       "  <tbody>\n",
       "    <tr>\n",
       "      <th>5318</th>\n",
       "      <td>9.5</td>\n",
       "      <td>0.56</td>\n",
       "      <td>0.33</td>\n",
       "      <td>2.4</td>\n",
       "      <td>0.089</td>\n",
       "      <td>35.0</td>\n",
       "      <td>67.0</td>\n",
       "      <td>0.99720</td>\n",
       "      <td>3.28</td>\n",
       "      <td>0.73</td>\n",
       "      <td>11.8</td>\n",
       "      <td>7</td>\n",
       "    </tr>\n",
       "    <tr>\n",
       "      <th>6235</th>\n",
       "      <td>6.0</td>\n",
       "      <td>0.50</td>\n",
       "      <td>0.00</td>\n",
       "      <td>1.4</td>\n",
       "      <td>0.057</td>\n",
       "      <td>15.0</td>\n",
       "      <td>26.0</td>\n",
       "      <td>0.99448</td>\n",
       "      <td>3.36</td>\n",
       "      <td>0.45</td>\n",
       "      <td>9.5</td>\n",
       "      <td>5</td>\n",
       "    </tr>\n",
       "    <tr>\n",
       "      <th>4948</th>\n",
       "      <td>8.8</td>\n",
       "      <td>0.66</td>\n",
       "      <td>0.26</td>\n",
       "      <td>1.7</td>\n",
       "      <td>0.074</td>\n",
       "      <td>4.0</td>\n",
       "      <td>23.0</td>\n",
       "      <td>0.99710</td>\n",
       "      <td>3.15</td>\n",
       "      <td>0.74</td>\n",
       "      <td>9.2</td>\n",
       "      <td>5</td>\n",
       "    </tr>\n",
       "    <tr>\n",
       "      <th>5945</th>\n",
       "      <td>7.1</td>\n",
       "      <td>0.43</td>\n",
       "      <td>0.17</td>\n",
       "      <td>1.8</td>\n",
       "      <td>0.082</td>\n",
       "      <td>27.0</td>\n",
       "      <td>51.0</td>\n",
       "      <td>0.99634</td>\n",
       "      <td>3.49</td>\n",
       "      <td>0.64</td>\n",
       "      <td>10.4</td>\n",
       "      <td>5</td>\n",
       "    </tr>\n",
       "    <tr>\n",
       "      <th>4907</th>\n",
       "      <td>7.5</td>\n",
       "      <td>0.50</td>\n",
       "      <td>0.36</td>\n",
       "      <td>6.1</td>\n",
       "      <td>0.071</td>\n",
       "      <td>17.0</td>\n",
       "      <td>102.0</td>\n",
       "      <td>0.99780</td>\n",
       "      <td>3.35</td>\n",
       "      <td>0.80</td>\n",
       "      <td>10.5</td>\n",
       "      <td>5</td>\n",
       "    </tr>\n",
       "    <tr>\n",
       "      <th>...</th>\n",
       "      <td>...</td>\n",
       "      <td>...</td>\n",
       "      <td>...</td>\n",
       "      <td>...</td>\n",
       "      <td>...</td>\n",
       "      <td>...</td>\n",
       "      <td>...</td>\n",
       "      <td>...</td>\n",
       "      <td>...</td>\n",
       "      <td>...</td>\n",
       "      <td>...</td>\n",
       "      <td>...</td>\n",
       "    </tr>\n",
       "    <tr>\n",
       "      <th>1970</th>\n",
       "      <td>8.3</td>\n",
       "      <td>0.49</td>\n",
       "      <td>0.43</td>\n",
       "      <td>2.5</td>\n",
       "      <td>0.036</td>\n",
       "      <td>32.0</td>\n",
       "      <td>116.0</td>\n",
       "      <td>0.99440</td>\n",
       "      <td>3.23</td>\n",
       "      <td>0.47</td>\n",
       "      <td>10.7</td>\n",
       "      <td>6</td>\n",
       "    </tr>\n",
       "    <tr>\n",
       "      <th>1997</th>\n",
       "      <td>8.4</td>\n",
       "      <td>0.20</td>\n",
       "      <td>0.38</td>\n",
       "      <td>11.8</td>\n",
       "      <td>0.055</td>\n",
       "      <td>51.0</td>\n",
       "      <td>170.0</td>\n",
       "      <td>1.00040</td>\n",
       "      <td>3.34</td>\n",
       "      <td>0.82</td>\n",
       "      <td>8.9</td>\n",
       "      <td>6</td>\n",
       "    </tr>\n",
       "    <tr>\n",
       "      <th>957</th>\n",
       "      <td>6.6</td>\n",
       "      <td>0.23</td>\n",
       "      <td>0.32</td>\n",
       "      <td>0.9</td>\n",
       "      <td>0.041</td>\n",
       "      <td>25.0</td>\n",
       "      <td>79.0</td>\n",
       "      <td>0.99260</td>\n",
       "      <td>3.39</td>\n",
       "      <td>0.54</td>\n",
       "      <td>10.2</td>\n",
       "      <td>7</td>\n",
       "    </tr>\n",
       "    <tr>\n",
       "      <th>2379</th>\n",
       "      <td>6.4</td>\n",
       "      <td>0.27</td>\n",
       "      <td>0.19</td>\n",
       "      <td>2.0</td>\n",
       "      <td>0.084</td>\n",
       "      <td>21.0</td>\n",
       "      <td>191.0</td>\n",
       "      <td>0.99516</td>\n",
       "      <td>3.49</td>\n",
       "      <td>0.63</td>\n",
       "      <td>9.6</td>\n",
       "      <td>4</td>\n",
       "    </tr>\n",
       "    <tr>\n",
       "      <th>2762</th>\n",
       "      <td>7.3</td>\n",
       "      <td>0.32</td>\n",
       "      <td>0.35</td>\n",
       "      <td>1.4</td>\n",
       "      <td>0.050</td>\n",
       "      <td>8.0</td>\n",
       "      <td>163.0</td>\n",
       "      <td>0.99244</td>\n",
       "      <td>3.24</td>\n",
       "      <td>0.42</td>\n",
       "      <td>10.7</td>\n",
       "      <td>5</td>\n",
       "    </tr>\n",
       "  </tbody>\n",
       "</table>\n",
       "<p>2542 rows × 12 columns</p>\n",
       "</div>"
      ],
      "text/plain": [
       "      fixed acidity  volatile acidity  citric acid  residual sugar  chlorides  \\\n",
       "5318            9.5              0.56         0.33             2.4      0.089   \n",
       "6235            6.0              0.50         0.00             1.4      0.057   \n",
       "4948            8.8              0.66         0.26             1.7      0.074   \n",
       "5945            7.1              0.43         0.17             1.8      0.082   \n",
       "4907            7.5              0.50         0.36             6.1      0.071   \n",
       "...             ...               ...          ...             ...        ...   \n",
       "1970            8.3              0.49         0.43             2.5      0.036   \n",
       "1997            8.4              0.20         0.38            11.8      0.055   \n",
       "957             6.6              0.23         0.32             0.9      0.041   \n",
       "2379            6.4              0.27         0.19             2.0      0.084   \n",
       "2762            7.3              0.32         0.35             1.4      0.050   \n",
       "\n",
       "      free sulfur dioxide  total sulfur dioxide  density    pH  sulphates  \\\n",
       "5318                 35.0                  67.0  0.99720  3.28       0.73   \n",
       "6235                 15.0                  26.0  0.99448  3.36       0.45   \n",
       "4948                  4.0                  23.0  0.99710  3.15       0.74   \n",
       "5945                 27.0                  51.0  0.99634  3.49       0.64   \n",
       "4907                 17.0                 102.0  0.99780  3.35       0.80   \n",
       "...                   ...                   ...      ...   ...        ...   \n",
       "1970                 32.0                 116.0  0.99440  3.23       0.47   \n",
       "1997                 51.0                 170.0  1.00040  3.34       0.82   \n",
       "957                  25.0                  79.0  0.99260  3.39       0.54   \n",
       "2379                 21.0                 191.0  0.99516  3.49       0.63   \n",
       "2762                  8.0                 163.0  0.99244  3.24       0.42   \n",
       "\n",
       "      alcohol  quality  \n",
       "5318     11.8        7  \n",
       "6235      9.5        5  \n",
       "4948      9.2        5  \n",
       "5945     10.4        5  \n",
       "4907     10.5        5  \n",
       "...       ...      ...  \n",
       "1970     10.7        6  \n",
       "1997      8.9        6  \n",
       "957      10.2        7  \n",
       "2379      9.6        4  \n",
       "2762     10.7        5  \n",
       "\n",
       "[2542 rows x 12 columns]"
      ]
     },
     "execution_count": 28,
     "metadata": {},
     "output_type": "execute_result"
    }
   ],
   "source": [
    "from imblearn.under_sampling import RandomUnderSampler\n",
    "rus = RandomUnderSampler(random_state=42)\n",
    "X_under, y_under = rus.fit_resample(X_train, y_train)\n",
    "X_under"
   ]
  },
  {
   "cell_type": "code",
   "execution_count": null,
   "id": "4e6a4d55-1a08-4b54-8a2d-5c4acd4e0db1",
   "metadata": {},
   "outputs": [
    {
     "data": {
      "text/plain": [
       "Text(0.5, 1.0, 'Balance of Red vs White wine')"
      ]
     },
     "execution_count": 29,
     "metadata": {},
     "output_type": "execute_result"
    },
    {
     "data": {
      "image/png": "[encoded data removed]",
      "text/plain": [
       "<Figure size 640x480 with 1 Axes>"
      ]
     },
     "metadata": {},
     "output_type": "display_data"
    }
   ],
   "source": [
    "plt.bar([\"white\",\"red\"], pd.DataFrame(y_under).value_counts(),\n",
    "        color = [\"white\",\"red\"],\n",
    "        edgecolor = [\"black\",[0,0,0]]\n",
    "       )\n",
    "plt.xlabel(\"Type of wine\")\n",
    "plt.ylabel(\"Occurrences\")\n",
    "plt.title(\"Balance of Red vs White wine\")"
   ]
  },
  {
   "cell_type": "markdown",
   "id": "1d1f6747-0c9c-4a73-bba8-68fd09b6a9a6",
   "metadata": {},
   "source": [
    "Notice how we have now a balanced dataset... but we also have *less* data! This can be okay if we have enough data for training, but sometimes (particularly for grossly imbalanced datasets) this can be unwanted.\n",
    "\n",
    "### Oversampling\n",
    "This one is not so intuitive: How can we sample *more* of the minority class if we... well, we do not HAVE more of the minority class? The answer is also not so simple, because we need to **make** more of our data. There are multiple ways of doing so, for example, by duplicatiing entries randomly. The best methods usually make use of another model, such as K-Means or K-Nearest Neighbors to create *synthetic* data. This is not as good as real data, but it can provide extra information for your model to train on.\n",
    "\n",
    "In this example, we use ADASYN, which makes use of K-NN to interpolate new data points for your minority class."
   ]
  },
  {
   "cell_type": "code",
   "execution_count": null,
   "id": "734ee848-56f0-4a6a-9c93-1023b15f05aa",
   "metadata": {},
   "outputs": [
    {
     "data": {
      "text/html": [
       "<div>\n",
       "<style scoped>\n",
       "    .dataframe tbody tr th:only-of-type {\n",
       "        vertical-align: middle;\n",
       "    }\n",
       "\n",
       "    .dataframe tbody tr th {\n",
       "        vertical-align: top;\n",
       "    }\n",
       "\n",
       "    .dataframe thead th {\n",
       "        text-align: right;\n",
       "    }\n",
       "</style>\n",
       "<table border=\"1\" class=\"dataframe\">\n",
       "  <thead>\n",
       "    <tr style=\"text-align: right;\">\n",
       "      <th></th>\n",
       "      <th>fixed acidity</th>\n",
       "      <th>volatile acidity</th>\n",
       "      <th>citric acid</th>\n",
       "      <th>residual sugar</th>\n",
       "      <th>chlorides</th>\n",
       "      <th>free sulfur dioxide</th>\n",
       "      <th>total sulfur dioxide</th>\n",
       "      <th>density</th>\n",
       "      <th>pH</th>\n",
       "      <th>sulphates</th>\n",
       "      <th>alcohol</th>\n",
       "      <th>quality</th>\n",
       "    </tr>\n",
       "  </thead>\n",
       "  <tbody>\n",
       "    <tr>\n",
       "      <th>0</th>\n",
       "      <td>6.100000</td>\n",
       "      <td>0.430000</td>\n",
       "      <td>0.350000</td>\n",
       "      <td>9.100000</td>\n",
       "      <td>0.059000</td>\n",
       "      <td>83.000000</td>\n",
       "      <td>249.000000</td>\n",
       "      <td>0.997100</td>\n",
       "      <td>3.370000</td>\n",
       "      <td>0.500000</td>\n",
       "      <td>8.500000</td>\n",
       "      <td>5</td>\n",
       "    </tr>\n",
       "    <tr>\n",
       "      <th>1</th>\n",
       "      <td>8.500000</td>\n",
       "      <td>0.170000</td>\n",
       "      <td>0.740000</td>\n",
       "      <td>3.600000</td>\n",
       "      <td>0.050000</td>\n",
       "      <td>29.000000</td>\n",
       "      <td>128.000000</td>\n",
       "      <td>0.992800</td>\n",
       "      <td>3.280000</td>\n",
       "      <td>0.400000</td>\n",
       "      <td>12.400000</td>\n",
       "      <td>6</td>\n",
       "    </tr>\n",
       "    <tr>\n",
       "      <th>2</th>\n",
       "      <td>5.200000</td>\n",
       "      <td>0.220000</td>\n",
       "      <td>0.460000</td>\n",
       "      <td>6.200000</td>\n",
       "      <td>0.066000</td>\n",
       "      <td>41.000000</td>\n",
       "      <td>187.000000</td>\n",
       "      <td>0.993620</td>\n",
       "      <td>3.190000</td>\n",
       "      <td>0.420000</td>\n",
       "      <td>9.733333</td>\n",
       "      <td>5</td>\n",
       "    </tr>\n",
       "    <tr>\n",
       "      <th>3</th>\n",
       "      <td>6.300000</td>\n",
       "      <td>0.400000</td>\n",
       "      <td>0.240000</td>\n",
       "      <td>5.100000</td>\n",
       "      <td>0.036000</td>\n",
       "      <td>43.000000</td>\n",
       "      <td>131.000000</td>\n",
       "      <td>0.991860</td>\n",
       "      <td>3.240000</td>\n",
       "      <td>0.440000</td>\n",
       "      <td>11.300000</td>\n",
       "      <td>6</td>\n",
       "    </tr>\n",
       "    <tr>\n",
       "      <th>4</th>\n",
       "      <td>6.700000</td>\n",
       "      <td>0.340000</td>\n",
       "      <td>0.260000</td>\n",
       "      <td>1.900000</td>\n",
       "      <td>0.038000</td>\n",
       "      <td>58.000000</td>\n",
       "      <td>138.000000</td>\n",
       "      <td>0.989300</td>\n",
       "      <td>3.000000</td>\n",
       "      <td>0.470000</td>\n",
       "      <td>12.200000</td>\n",
       "      <td>7</td>\n",
       "    </tr>\n",
       "    <tr>\n",
       "      <th>...</th>\n",
       "      <td>...</td>\n",
       "      <td>...</td>\n",
       "      <td>...</td>\n",
       "      <td>...</td>\n",
       "      <td>...</td>\n",
       "      <td>...</td>\n",
       "      <td>...</td>\n",
       "      <td>...</td>\n",
       "      <td>...</td>\n",
       "      <td>...</td>\n",
       "      <td>...</td>\n",
       "      <td>...</td>\n",
       "    </tr>\n",
       "    <tr>\n",
       "      <th>7821</th>\n",
       "      <td>10.173064</td>\n",
       "      <td>0.885351</td>\n",
       "      <td>0.374170</td>\n",
       "      <td>3.064206</td>\n",
       "      <td>0.080598</td>\n",
       "      <td>25.671588</td>\n",
       "      <td>87.671588</td>\n",
       "      <td>0.998843</td>\n",
       "      <td>3.132546</td>\n",
       "      <td>0.586421</td>\n",
       "      <td>9.968635</td>\n",
       "      <td>5</td>\n",
       "    </tr>\n",
       "    <tr>\n",
       "      <th>7822</th>\n",
       "      <td>9.341239</td>\n",
       "      <td>0.623006</td>\n",
       "      <td>0.265393</td>\n",
       "      <td>3.384139</td>\n",
       "      <td>0.089556</td>\n",
       "      <td>25.031722</td>\n",
       "      <td>87.031722</td>\n",
       "      <td>0.999707</td>\n",
       "      <td>3.234924</td>\n",
       "      <td>0.618414</td>\n",
       "      <td>9.712689</td>\n",
       "      <td>5</td>\n",
       "    </tr>\n",
       "    <tr>\n",
       "      <th>7823</th>\n",
       "      <td>8.390557</td>\n",
       "      <td>0.545804</td>\n",
       "      <td>0.297448</td>\n",
       "      <td>2.597550</td>\n",
       "      <td>0.081441</td>\n",
       "      <td>26.069933</td>\n",
       "      <td>85.930067</td>\n",
       "      <td>0.998311</td>\n",
       "      <td>3.330944</td>\n",
       "      <td>0.598601</td>\n",
       "      <td>9.325523</td>\n",
       "      <td>5</td>\n",
       "    </tr>\n",
       "    <tr>\n",
       "      <th>7824</th>\n",
       "      <td>9.235914</td>\n",
       "      <td>0.605476</td>\n",
       "      <td>0.262639</td>\n",
       "      <td>3.343453</td>\n",
       "      <td>0.089397</td>\n",
       "      <td>25.075395</td>\n",
       "      <td>86.924605</td>\n",
       "      <td>0.999649</td>\n",
       "      <td>3.246409</td>\n",
       "      <td>0.618492</td>\n",
       "      <td>9.673612</td>\n",
       "      <td>5</td>\n",
       "    </tr>\n",
       "    <tr>\n",
       "      <th>7825</th>\n",
       "      <td>7.926285</td>\n",
       "      <td>0.513032</td>\n",
       "      <td>0.316565</td>\n",
       "      <td>2.187898</td>\n",
       "      <td>0.077071</td>\n",
       "      <td>26.616136</td>\n",
       "      <td>85.383864</td>\n",
       "      <td>0.997576</td>\n",
       "      <td>3.377372</td>\n",
       "      <td>0.587677</td>\n",
       "      <td>9.134353</td>\n",
       "      <td>5</td>\n",
       "    </tr>\n",
       "  </tbody>\n",
       "</table>\n",
       "<p>7826 rows × 12 columns</p>\n",
       "</div>"
      ],
      "text/plain": [
       "      fixed acidity  volatile acidity  citric acid  residual sugar  chlorides  \\\n",
       "0          6.100000          0.430000     0.350000        9.100000   0.059000   \n",
       "1          8.500000          0.170000     0.740000        3.600000   0.050000   \n",
       "2          5.200000          0.220000     0.460000        6.200000   0.066000   \n",
       "3          6.300000          0.400000     0.240000        5.100000   0.036000   \n",
       "4          6.700000          0.340000     0.260000        1.900000   0.038000   \n",
       "...             ...               ...          ...             ...        ...   \n",
       "7821      10.173064          0.885351     0.374170        3.064206   0.080598   \n",
       "7822       9.341239          0.623006     0.265393        3.384139   0.089556   \n",
       "7823       8.390557          0.545804     0.297448        2.597550   0.081441   \n",
       "7824       9.235914          0.605476     0.262639        3.343453   0.089397   \n",
       "7825       7.926285          0.513032     0.316565        2.187898   0.077071   \n",
       "\n",
       "      free sulfur dioxide  total sulfur dioxide   density        pH  \\\n",
       "0               83.000000            249.000000  0.997100  3.370000   \n",
       "1               29.000000            128.000000  0.992800  3.280000   \n",
       "2               41.000000            187.000000  0.993620  3.190000   \n",
       "3               43.000000            131.000000  0.991860  3.240000   \n",
       "4               58.000000            138.000000  0.989300  3.000000   \n",
       "...                   ...                   ...       ...       ...   \n",
       "7821            25.671588             87.671588  0.998843  3.132546   \n",
       "7822            25.031722             87.031722  0.999707  3.234924   \n",
       "7823            26.069933             85.930067  0.998311  3.330944   \n",
       "7824            25.075395             86.924605  0.999649  3.246409   \n",
       "7825            26.616136             85.383864  0.997576  3.377372   \n",
       "\n",
       "      sulphates    alcohol  quality  \n",
       "0      0.500000   8.500000        5  \n",
       "1      0.400000  12.400000        6  \n",
       "2      0.420000   9.733333        5  \n",
       "3      0.440000  11.300000        6  \n",
       "4      0.470000  12.200000        7  \n",
       "...         ...        ...      ...  \n",
       "7821   0.586421   9.968635        5  \n",
       "7822   0.618414   9.712689        5  \n",
       "7823   0.598601   9.325523        5  \n",
       "7824   0.618492   9.673612        5  \n",
       "7825   0.587677   9.134353        5  \n",
       "\n",
       "[7826 rows x 12 columns]"
      ]
     },
     "execution_count": 30,
     "metadata": {},
     "output_type": "execute_result"
    }
   ],
   "source": [
    "from imblearn.over_sampling import ADASYN\n",
    "over_ada = ADASYN(random_state=42)\n",
    "X_over, y_over = over_ada.fit_resample(X_train, y_train)\n",
    "X_over"
   ]
  },
  {
   "cell_type": "code",
   "execution_count": null,
   "id": "768924d7-fdb8-49e8-9784-2ad3a0da30b9",
   "metadata": {},
   "outputs": [
    {
     "data": {
      "text/plain": [
       "Text(0.5, 1.0, 'Balance of Red vs White wine')"
      ]
     },
     "execution_count": 31,
     "metadata": {},
     "output_type": "execute_result"
    },
    {
     "data": {
      "image/png": "[encoded data removed]",
      "text/plain": [
       "<Figure size 640x480 with 1 Axes>"
      ]
     },
     "metadata": {},
     "output_type": "display_data"
    }
   ],
   "source": [
    "plt.bar([\"white\",\"red\"], pd.DataFrame(y_over).value_counts(),\n",
    "        color = [\"white\",\"red\"],\n",
    "        edgecolor = [\"black\",[0,0,0]]\n",
    "       )\n",
    "plt.xlabel(\"Type of wine\")\n",
    "plt.ylabel(\"Occurrences\")\n",
    "plt.title(\"Balance of Red vs White wine\")"
   ]
  },
  {
   "cell_type": "markdown",
   "id": "40e225d7-bf0c-4027-88fc-fc3eb5728c91",
   "metadata": {},
   "source": [
    "Now we have *more*, and *balanced* data!"
   ]
  },
  {
   "cell_type": "markdown",
   "id": "879641e0-0ec6-46fe-939b-30309ed39146",
   "metadata": {},
   "source": [
    "## Putting it all together\n",
    "Let's make some tests using some of our resampling techniques and our encoders!\n",
    "\n",
    "### With undersampling"
   ]
  },
  {
   "cell_type": "code",
   "execution_count": null,
   "id": "b7456ae0-5032-4084-a2c8-37839d3124b0",
   "metadata": {},
   "outputs": [
    {
     "name": "stdout",
     "output_type": "stream",
     "text": [
      "The scores for red are: \n",
      "------------------\n",
      "F1 SCORE :  0.8153409090909091\n",
      "RECALL   :  0.8913043478260869\n",
      "PRECISION:  0.7513089005235603\n"
     ]
    },
    {
     "data": {
      "text/plain": [
       "(0.8153409090909091, 0.8913043478260869, 0.7513089005235603)"
      ]
     },
     "execution_count": 32,
     "metadata": {},
     "output_type": "execute_result"
    }
   ],
   "source": [
    "svclassifier = SVC(\n",
    "    C = 1.0,\n",
    "    kernel = 'poly',\n",
    "    degree = 2,\n",
    "    class_weight = None,\n",
    "    max_iter = 10000,\n",
    "    random_state = 42,\n",
    ")\n",
    "\n",
    "svclassifier.fit(X_under,y_under)\n",
    "\n",
    "y_pred = svclassifier.predict(X_test)\n",
    "y_pred = le.inverse_transform(y_pred)\n",
    "y_test = le.inverse_transform(y_test)\n",
    "\n",
    "get_scores(y_test, y_pred, positive=\"red\")"
   ]
  },
  {
   "cell_type": "code",
   "execution_count": null,
   "id": "fe888d79-80b0-41f6-b013-2a7dc0dd6965",
   "metadata": {},
   "outputs": [
    {
     "name": "stdout",
     "output_type": "stream",
     "text": [
      "The scores for white are: \n",
      "------------------\n",
      "F1 SCORE :  0.9309245483528161\n",
      "RECALL   :  0.90216271884655\n",
      "PRECISION:  0.9615806805708014\n"
     ]
    },
    {
     "data": {
      "text/plain": [
       "(0.9309245483528161, 0.90216271884655, 0.9615806805708014)"
      ]
     },
     "execution_count": 33,
     "metadata": {},
     "output_type": "execute_result"
    }
   ],
   "source": [
    "get_scores(y_test, y_pred, positive=\"white\")"
   ]
  },
  {
   "cell_type": "code",
   "execution_count": null,
   "id": "68443ee6-4097-4c0b-bb8c-46e155a7a2a0",
   "metadata": {},
   "outputs": [
    {
     "data": {
      "text/plain": [
       "0.8731327287218626"
      ]
     },
     "execution_count": 34,
     "metadata": {},
     "output_type": "execute_result"
    }
   ],
   "source": [
    "f1_score(y_test, y_pred, average=\"macro\")"
   ]
  },
  {
   "cell_type": "code",
   "execution_count": null,
   "id": "d4c981e1-1969-4ebf-a237-76b51ca737d9",
   "metadata": {},
   "outputs": [
    {
     "data": {
      "text/plain": [
       "Text(0.5, 1.0, 'Undersampled performance')"
      ]
     },
     "execution_count": 35,
     "metadata": {},
     "output_type": "execute_result"
    },
    {
     "data": {
      "image/png": "[encoded data removed]",
      "text/plain": [
       "<Figure size 700x700 with 2 Axes>"
      ]
     },
     "metadata": {},
     "output_type": "display_data"
    }
   ],
   "source": [
    "cnfs = confusion_matrix(y_test, y_pred, normalize='true')\n",
    "plt.figure(figsize=(7,7))\n",
    "sns.heatmap(cnfs,\n",
    "            annot=True,\n",
    "            cmap=\"Reds\",\n",
    "            vmax=1,\n",
    "            vmin=0,\n",
    "            fmt='g',\n",
    "           )\n",
    "plt.xlabel(\"Preds\")\n",
    "plt.xticks(ticks=[0.5,1.5], labels=svclassifier.classes_)\n",
    "plt.yticks(ticks=[0.5,1.5], labels=svclassifier.classes_)\n",
    "plt.ylabel(\"Labels\")\n",
    "plt.title(\"Undersampled performance\")"
   ]
  },
  {
   "cell_type": "markdown",
   "id": "f41345b7-e36d-40cd-aa99-b1b9c2b9a847",
   "metadata": {},
   "source": [
    "### With oversampling"
   ]
  },
  {
   "cell_type": "code",
   "execution_count": null,
   "id": "7d1fefe9-9b2e-4b1c-bec2-483afdeb40c4",
   "metadata": {},
   "outputs": [
    {
     "name": "stdout",
     "output_type": "stream",
     "text": [
      "The scores for red are: \n",
      "------------------\n",
      "F1 SCORE :  0.7511961722488039\n",
      "RECALL   :  0.9751552795031055\n",
      "PRECISION:  0.6108949416342413\n"
     ]
    },
    {
     "data": {
      "text/plain": [
       "(0.7511961722488039, 0.9751552795031055, 0.6108949416342413)"
      ]
     },
     "execution_count": 36,
     "metadata": {},
     "output_type": "execute_result"
    }
   ],
   "source": [
    "svclassifier = SVC(\n",
    "    C = 1.0,\n",
    "    kernel = 'poly',\n",
    "    degree = 2,\n",
    "    class_weight = None,\n",
    "    max_iter = 10000,\n",
    "    random_state = 42,\n",
    ")\n",
    "\n",
    "svclassifier.fit(X_over,y_over)\n",
    "\n",
    "y_pred = svclassifier.predict(X_test)\n",
    "y_pred = le.inverse_transform(y_pred)\n",
    "\n",
    "get_scores(y_test, y_pred, positive=\"red\")"
   ]
  },
  {
   "cell_type": "code",
   "execution_count": null,
   "id": "887baea3-5a56-482b-bb05-f7f2fd4776c1",
   "metadata": {},
   "outputs": [
    {
     "name": "stdout",
     "output_type": "stream",
     "text": [
      "The scores for white are: \n",
      "------------------\n",
      "F1 SCORE :  0.8811428571428572\n",
      "RECALL   :  0.7940267765190525\n",
      "PRECISION:  0.9897304236200257\n"
     ]
    },
    {
     "data": {
      "text/plain": [
       "(0.8811428571428572, 0.7940267765190525, 0.9897304236200257)"
      ]
     },
     "execution_count": 37,
     "metadata": {},
     "output_type": "execute_result"
    }
   ],
   "source": [
    "\n",
    "get_scores(y_test, y_pred, positive=\"white\")"
   ]
  },
  {
   "cell_type": "code",
   "execution_count": null,
   "id": "24cfe9de-47c0-46e2-a7d6-6bbf1c022f30",
   "metadata": {},
   "outputs": [
    {
     "data": {
      "text/plain": [
       "0.8161695146958305"
      ]
     },
     "execution_count": 38,
     "metadata": {},
     "output_type": "execute_result"
    }
   ],
   "source": [
    "f1_score(y_test, y_pred, average=\"macro\")"
   ]
  },
  {
   "cell_type": "code",
   "execution_count": null,
   "id": "d880e2fa-ad90-4e82-91ba-75852ebc90e0",
   "metadata": {},
   "outputs": [
    {
     "data": {
      "text/plain": [
       "Text(0.5, 1.0, 'Oversampled performance')"
      ]
     },
     "execution_count": 39,
     "metadata": {},
     "output_type": "execute_result"
    },
    {
     "data": {
      "image/png": "[encoded data removed]",
      "text/plain": [
       "<Figure size 700x700 with 2 Axes>"
      ]
     },
     "metadata": {},
     "output_type": "display_data"
    }
   ],
   "source": [
    "cnfs = confusion_matrix(y_test, y_pred, normalize='true')\n",
    "plt.figure(figsize=(7,7))\n",
    "sns.heatmap(cnfs,\n",
    "            annot=True,\n",
    "            cmap=\"Reds\",\n",
    "            vmax=1,\n",
    "            vmin=0,\n",
    "            fmt='g',\n",
    "           )\n",
    "plt.xlabel(\"Preds\")\n",
    "plt.xticks(ticks=[0.5,1.5], labels=svclassifier.classes_)\n",
    "plt.yticks(ticks=[0.5,1.5], labels=svclassifier.classes_)\n",
    "plt.ylabel(\"Labels\")\n",
    "plt.title(\"Oversampled performance\")"
   ]
  },
  {
   "cell_type": "markdown",
   "id": "860bfbd4-2936-4e2a-849f-8b7d4885345a",
   "metadata": {},
   "source": [
    "## Conclusion\n",
    "So, what can we conclude from these tests? \n",
    "\n",
    "Observe that there is no magic bullet: Our model won some performance in some ways, but also lost some in other ways. Particularly, notice that increasing our red wine recall impacted our precision. \n",
    "\n",
    "The best model overall was the first one we made, but consider: Could the results be better if we use a less aggressive form of balancing (say we only make a 60-40 imbalance instead of forcing a 50-50)?\n",
    "\n",
    "What about using different hyperparameters? We only tested with a polynomial kernel: Maybe the actual data is better suited to another kernel.\n",
    "\n",
    "And what about decision trees? Could that one have performed better?\n",
    "\n",
    "Many of these questions can only be answered through the use of *validation*, which we have yet to learn! Next time we will discuss how to use it to adjust all of these hyperparameters and more."
   ]
  },
  {
   "cell_type": "code",
   "execution_count": null,
   "id": "24250ecc-1a92-4ef8-b46c-d70e6bbbde23",
   "metadata": {},
   "outputs": [
    {
     "data": {
      "text/plain": [
       "0.884591028011079"
      ]
     },
     "execution_count": 45,
     "metadata": {},
     "output_type": "execute_result"
    }
   ],
   "source": [
    "recall_score(y_test, y_pred, average='macro') # one vs rest"
   ]
  },
  {
   "cell_type": "code",
   "execution_count": null,
   "id": "89f5c674-06fe-4d3b-8930-73fef32f67fe",
   "metadata": {},
   "outputs": [
    {
     "data": {
      "text/plain": [
       "0.499694320468834"
      ]
     },
     "execution_count": 45,
     "metadata": {},
     "output_type": "execute_result"
    }
   ],
   "source": [
    "np.random.seed(89)\n",
    "np.random.rand()\n"
   ]
  },
  {
   "cell_type": "code",
   "execution_count": null,
   "id": "58370bd5-3df4-4044-b649-881cc6c1eaa2",
   "metadata": {},
   "outputs": [],
   "source": []
  }
 ],
 "metadata": {
  "kernelspec": {
   "display_name": "Python 3 (ipykernel)",
   "language": "python",
   "name": "python3"
  },
  "language_info": {
   "codemirror_mode": {
    "name": "ipython",
    "version": 3
   },
   "file_extension": ".py",
   "mimetype": "text/x-python",
   "name": "python",
   "nbconvert_exporter": "python",
   "pygments_lexer": "ipython3",
   "version": "3.10.13"
  }
 },
 "nbformat": 4,
 "nbformat_minor": 5
}
